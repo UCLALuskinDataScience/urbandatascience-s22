{
 "cells": [
  {
   "cell_type": "markdown",
   "id": "inner-miracle",
   "metadata": {},
   "source": [
    "# Advanced spatial joins"
   ]
  },
  {
   "cell_type": "markdown",
   "id": "coral-veteran",
   "metadata": {},
   "source": [
    "## Lecture objectives\n",
    "\n",
    "1. Learn about spatial predicates\n",
    "2. Learn about distance and nearest neighbor calculations\n",
    "3. Gain practice with troubleshooting spatial joins"
   ]
  },
  {
   "cell_type": "markdown",
   "id": "da73342d",
   "metadata": {},
   "source": [
    "**You'll need to add the pygeos library in order to do the nearest neighbors**. I omitted this when we set up the environment at the start of the quarter.\n",
    "\n",
    "Install it as follows from the command line:\n",
    "\n",
    "`conda activate uds`\n",
    "\n",
    "`conda install pygeos`\n",
    "\n",
    "You can also open up Anaconda in the point-and-click. Make sure it goes into your `uds` environment."
   ]
  },
  {
   "cell_type": "markdown",
   "id": "criminal-debut",
   "metadata": {},
   "source": [
    "## Other types of spatial relationships"
   ]
  },
  {
   "cell_type": "markdown",
   "id": "painful-wages",
   "metadata": {},
   "source": [
    "The `intersects` operator, which we just used, is one of the most common. It is excellent if you want to know whether a point is within (or on the boundary) of a polygon. In general, you'll get a 1:1 match, but you need to be careful if your points are on the boundary and thus intersect with two polygons.\n",
    "\n",
    "Let's start by loading two of the datasets we used in the last lecture. This is exactly the same code."
   ]
  },
  {
   "cell_type": "code",
   "execution_count": null,
   "id": "b6a0fd83",
   "metadata": {},
   "outputs": [],
   "source": [
    "import requests\n",
    "import json\n",
    "import geopandas as gpd\n",
    "import pandas as pd\n",
    "\n",
    "# get food pantry dataset via Socrata\n",
    "r  = requests.get('https://controllerdata.lacity.org/resource/uztv-ve9b.json')\n",
    "pantryDf = pd.DataFrame(json.loads(r.content))\n",
    "\n",
    "# convert to a GeoDataFrame\n",
    "pantrygdf = gpd.GeoDataFrame(\n",
    "    pantryDf, geometry=gpd.points_from_xy(pantryDf.longitude, pantryDf.latitude, \n",
    "                                          crs='EPSG:4326'))\n",
    "# convert to 3857 to match the census data\n",
    "pantrygdf.to_crs('EPSG:3857', inplace=True)\n",
    "\n",
    "# get the census data for the City of LA\n",
    "# B19019_001E is median household income\n",
    "from cenpy import products\n",
    "incomeDf = products.ACS(2017).from_place('Los Angeles, CA', level='tract',\n",
    "                                        variables='B19019_001E')\n",
    "incomeDf.rename(columns={'B19019_001E':'median_HH_income'}, inplace=True)"
   ]
  },
  {
   "cell_type": "markdown",
   "id": "c2ac563f",
   "metadata": {},
   "source": [
    "These predicates are defined in the `shapely` [documentation](https://shapely.readthedocs.io/en/stable/manual.html#binary-predicates)."
   ]
  },
  {
   "cell_type": "code",
   "execution_count": null,
   "id": "5471c84e",
   "metadata": {},
   "outputs": [],
   "source": [
    "print(incomeDf.sindex.valid_query_predicates)"
   ]
  },
  {
   "cell_type": "markdown",
   "id": "b74c8945",
   "metadata": {},
   "source": [
    "Let's look at the number of rows that are produced with three different predicates: intersects, contains, and within.\n",
    "\n",
    "How do you explain the different results below?"
   ]
  },
  {
   "cell_type": "code",
   "execution_count": null,
   "id": "processed-pasta",
   "metadata": {},
   "outputs": [],
   "source": [
    "print('There are {} pantries and {} tracts.'.format(len(pantrygdf), len(incomeDf)))\n",
    "\n",
    "pantries_intersects = gpd.sjoin(incomeDf[['GEOID','geometry']], \n",
    "                           pantrygdf, how=\"inner\", predicate='intersects')\n",
    "print('Using intersects: {} rows'.format(len(pantries_intersects)))\n",
    "\n",
    "pantries_contains = gpd.sjoin(incomeDf[['GEOID','geometry']], \n",
    "                           pantrygdf, how=\"inner\", predicate='contains')\n",
    "print('Using contains: {} rows'.format(len(pantries_contains)))\n",
    "\n",
    "pantries_within = gpd.sjoin(incomeDf[['GEOID','geometry']], \n",
    "                           pantrygdf, how=\"inner\", predicate='within')\n",
    "print('Using within: {} rows'.format(len(pantries_within)))\n"
   ]
  },
  {
   "cell_type": "markdown",
   "id": "angry-alexander",
   "metadata": {},
   "source": [
    "Intersects and contains return the same number of rows. If a census tract (a polygon) intersects a pantry (a point geometry), it also contains it.\n",
    "\n",
    "But a census tract is not within a pantry. \n",
    "\n",
    "## Troubleshooting spatial joins\n",
    "\n",
    "Also note that we have fewer join results than pantries. Why? A good guess would be that some pantries are outside the City of Los Angeles."
   ]
  },
  {
   "cell_type": "markdown",
   "id": "46a2b8af",
   "metadata": {},
   "source": [
    "<div class=\"alert alert-block alert-info\">\n",
    "<strong>Thought exercise:</strong> How would you verify that the missing pantries are outside the city?\n",
    "</div>"
   ]
  },
  {
   "cell_type": "markdown",
   "id": "6203f27d",
   "metadata": {},
   "source": [
    "We could map them. But note that the pantries dataset has a city field. So let's do `groupby` and ask for the size of each group."
   ]
  },
  {
   "cell_type": "code",
   "execution_count": null,
   "id": "8c2a72df",
   "metadata": {},
   "outputs": [],
   "source": [
    "pantrygdf.groupby('city').size()"
   ]
  },
  {
   "cell_type": "markdown",
   "id": "70111419",
   "metadata": {},
   "source": [
    "Hmm. So either all the pantries are within the city, or there is an error in the `city` column. Or our join is going wrong.\n",
    "\n",
    "Let's map it and take a look. Note that we use the `alpha` parameter to adjust the transparency of both the census tracts and the basemap, making it easier to see the intersection."
   ]
  },
  {
   "cell_type": "code",
   "execution_count": null,
   "id": "6c27b684",
   "metadata": {},
   "outputs": [],
   "source": [
    "import matplotlib.pyplot as plt\n",
    "import contextily as ctx\n",
    "\n",
    "fig, ax = plt.subplots(figsize=(10,10))\n",
    "pantrygdf.plot(ax=ax)\n",
    "incomeDf.plot(ax=ax, alpha=0.5) # 50% opacity\n",
    "ctx.add_basemap(ax=ax, zoom=12, alpha=0.3) # 30% opacity"
   ]
  },
  {
   "cell_type": "markdown",
   "id": "6385dbd5",
   "metadata": {},
   "source": [
    "Aha. If you recognize the shape of the city of Los Angeles, it looks like `cenpy` is not giving us all the tracts.\n",
    "\n",
    "Let's troubleshoot. Our first stop will be the [documentation](https://cenpy-devs.github.io/cenpy/generated/cenpy.products.ACS.from_place.html).\n",
    "\n",
    "There are a few things we could try:\n",
    "* Provide the `place_type` argument as the docs recommend\n",
    "* Experiment with the `strict_within` argument. Perhaps we are losing the tracts on the edge of the city boundary if this is `True` by default?\n",
    "* Try a different census variable"
   ]
  },
  {
   "cell_type": "code",
   "execution_count": null,
   "id": "2d2bb40d",
   "metadata": {},
   "outputs": [],
   "source": [
    "print(len(incomeDf))\n",
    "incomeDf = products.ACS(2017).from_place('Los Angeles, CA', \n",
    "                                          place_type='Incorporated Place',\n",
    "                                          level='tract', variables='B19019_001E')\n",
    "print(len(incomeDf))"
   ]
  },
  {
   "cell_type": "markdown",
   "id": "e998e93f",
   "metadata": {},
   "source": [
    "No, that didn't do it. We still get 749 tracts.\n",
    "\n",
    "What about the `strict_within` argument?"
   ]
  },
  {
   "cell_type": "code",
   "execution_count": null,
   "id": "2fc57243",
   "metadata": {},
   "outputs": [],
   "source": [
    "incomeDf = products.ACS(2017).from_place('Los Angeles, CA', \n",
    "                                          place_type='Incorporated Place',\n",
    "                                          level='tract', strict_within=False,\n",
    "                                          variables='B19019_001E')\n",
    "incomeDf.rename(columns={'B19019_001E':'median_HH_income'}, inplace=True)\n",
    "print(len(incomeDf))"
   ]
  },
  {
   "cell_type": "markdown",
   "id": "c8fe4d83",
   "metadata": {},
   "source": [
    "Aha. Fixed it. Now let's run our join again."
   ]
  },
  {
   "cell_type": "code",
   "execution_count": null,
   "id": "d2a8c834",
   "metadata": {},
   "outputs": [],
   "source": [
    "pantries_intersects = gpd.sjoin(incomeDf[['GEOID','geometry']], \n",
    "                           pantrygdf, how=\"inner\", predicate='intersects')\n",
    "print(len(pantries_intersects))"
   ]
  },
  {
   "cell_type": "markdown",
   "id": "81ac71c7",
   "metadata": {},
   "source": [
    "Now we are just missing one! Let's map it again to take a look. This is identical code to before."
   ]
  },
  {
   "cell_type": "code",
   "execution_count": null,
   "id": "325d433e",
   "metadata": {},
   "outputs": [],
   "source": [
    "fig, ax = plt.subplots(figsize=(10,10))\n",
    "pantrygdf.plot(ax=ax)\n",
    "incomeDf.plot(ax=ax, alpha=0.5) # 50% opacity\n",
    "ctx.add_basemap(ax=ax, zoom=12, alpha=0.3) # 30% opacity"
   ]
  },
  {
   "cell_type": "markdown",
   "id": "0beb9c59",
   "metadata": {},
   "source": [
    "It looks like two of them are just on the boundary. Let's adjust the axis limits to see if that's the case. That will zoom on the affected area.\n",
    "\n",
    "We can set the limits by eyeballing from the figure above."
   ]
  },
  {
   "cell_type": "code",
   "execution_count": null,
   "id": "d0cdfa6f",
   "metadata": {},
   "outputs": [],
   "source": [
    "fig, ax = plt.subplots(figsize=(5,5))\n",
    "pantrygdf.plot(ax=ax)\n",
    "incomeDf.plot(ax=ax, alpha=0.5) # 50% opacity\n",
    "ctx.add_basemap(ax=ax, zoom=12, alpha=0.3) # 30% opacity\n",
    "\n",
    "ax.set_xlim([-1.316e7, -1.315e7])\n",
    "ax.set_ylim([4.03e6, 4.04e6])"
   ]
  },
  {
   "cell_type": "markdown",
   "id": "5df07911",
   "metadata": {},
   "source": [
    "It looks like the geometry is imprecise, or perhaps the pantry is just outside of the city limits. Perhaps we could correct the coordinates manually, or ask `cenpy` for all tracts in LA County (not just the city).\n",
    "\n",
    "The point here: spatial joins often throw up unexpected results. You'll have to do some detective work to figure out what goes wrong.\n",
    "\n",
    "## Spatial attributes\n",
    "We can access useful attributes of the geometry directly from `geopandas`. Areas, length, and bounding boxes are three examples.\n",
    "\n",
    "Note that the units will be based on your projection. You probably don't want to measure distances or areas in degrees! But even a projection in meters can be distorted.\n",
    "\n",
    "The best projection will vary locally. In the US, the State Plane coordinate systems are usually the best choice for local-level work. Los Angeles is in State Plane [California zone 5, which has an EPSG code of 3497](https://epsg.io/3497). Note the units are in meters. If you want feet, [try EPSG code 6424](https://epsg.io/6424). "
   ]
  },
  {
   "cell_type": "code",
   "execution_count": null,
   "id": "ac4fa3ba",
   "metadata": {},
   "outputs": [],
   "source": [
    "# in Web Mercator\n",
    "print(incomeDf.geometry.area.head())"
   ]
  },
  {
   "cell_type": "code",
   "execution_count": null,
   "id": "4db7d2d0",
   "metadata": {},
   "outputs": [],
   "source": [
    "# in State Plane\n",
    "print(incomeDf.to_crs('EPSG:3497').geometry.area.head())"
   ]
  },
  {
   "cell_type": "markdown",
   "id": "2f4d5636",
   "metadata": {},
   "source": [
    "For a polygon, length is the perimeter."
   ]
  },
  {
   "cell_type": "code",
   "execution_count": null,
   "id": "incomplete-router",
   "metadata": {},
   "outputs": [],
   "source": [
    "print(incomeDf.geometry.to_crs('EPSG:3497').length.head()) "
   ]
  },
  {
   "cell_type": "markdown",
   "id": "77dbcb0e",
   "metadata": {},
   "source": [
    "The projection is less important for the bounding box, as long as you know which one you are using. Here, we are still in Web Mercator. But lat/lon is often the easiest to work with."
   ]
  },
  {
   "cell_type": "code",
   "execution_count": null,
   "id": "404a7aba",
   "metadata": {},
   "outputs": [],
   "source": [
    "print(incomeDf.geometry.bounds.head())"
   ]
  },
  {
   "cell_type": "code",
   "execution_count": null,
   "id": "77c3b2ea",
   "metadata": {},
   "outputs": [],
   "source": [
    "print(incomeDf.to_crs('EPSG:4326').geometry.bounds.head())"
   ]
  },
  {
   "cell_type": "markdown",
   "id": "fitted-savannah",
   "metadata": {},
   "source": [
    "## Distances and nearest neighbors\n",
    "Another common use case is getting the distances between a geometry and a set of other geometries, or the nearest neighbor. Again, the projection is important here so let's convert to State Plane. "
   ]
  },
  {
   "cell_type": "code",
   "execution_count": null,
   "id": "associate-kelly",
   "metadata": {},
   "outputs": [],
   "source": [
    "pantrygdf.to_crs('EPSG:3497', inplace=True)\n",
    "incomeDf.to_crs('EPSG:3497', inplace=True)"
   ]
  },
  {
   "cell_type": "markdown",
   "id": "b197dc0b",
   "metadata": {},
   "source": [
    "The nearest neighbor can be found with `sjoin_nearest`. The optional argument, `distance_col`, will add a column with the distances."
   ]
  },
  {
   "cell_type": "code",
   "execution_count": null,
   "id": "a2cf0f27",
   "metadata": {},
   "outputs": [],
   "source": [
    "incomeDf.sjoin_nearest(pantrygdf, distance_col='dist_to_pantry')"
   ]
  },
  {
   "cell_type": "markdown",
   "id": "0fb7d5e3",
   "metadata": {},
   "source": [
    "Note that we only have the result for the closest part of the census tract. If we want the centroid, we can create a new GeoDataFrame and convert its polygons to centroids."
   ]
  },
  {
   "cell_type": "code",
   "execution_count": null,
   "id": "bb7b37a4",
   "metadata": {},
   "outputs": [],
   "source": [
    "incomeDf_centroids = incomeDf.copy()\n",
    "incomeDf_centroids.geometry = incomeDf.geometry.centroid\n",
    "\n",
    "# map to show the centroids \n",
    "fig, ax=plt.subplots(figsize=(10,10))\n",
    "incomeDf_centroids.plot(ax=ax)\n",
    "incomeDf.plot(ax=ax, lw=4, alpha=0.5)"
   ]
  },
  {
   "cell_type": "markdown",
   "id": "cb3c6036",
   "metadata": {},
   "source": [
    "And let's do the nearest neighbor with these centroids."
   ]
  },
  {
   "cell_type": "code",
   "execution_count": null,
   "id": "1f4dcb2b",
   "metadata": {},
   "outputs": [],
   "source": [
    "incomeDf_centroids.sjoin_nearest(pantrygdf, distance_col='dist_to_pantry')"
   ]
  },
  {
   "cell_type": "markdown",
   "id": "385ba14f",
   "metadata": {},
   "source": [
    "Notice that the distances are a little larger than before."
   ]
  },
  {
   "cell_type": "code",
   "execution_count": null,
   "id": "d5d130e7",
   "metadata": {},
   "outputs": [],
   "source": [
    "incomeDf.sjoin_nearest(pantrygdf, \n",
    "        distance_col='dist_to_pantry').dist_to_pantry.mean()"
   ]
  },
  {
   "cell_type": "code",
   "execution_count": null,
   "id": "345662d3",
   "metadata": {},
   "outputs": [],
   "source": [
    "incomeDf_centroids.sjoin_nearest(pantrygdf, \n",
    "        distance_col='dist_to_pantry').dist_to_pantry.mean()"
   ]
  },
  {
   "cell_type": "markdown",
   "id": "f3a55e95",
   "metadata": {},
   "source": [
    "What if you don't just care about the closest one, but want to get the distances from a census tract to a larger number of pantries, or even all of them? For example, some accessibility measures look at the distance to the 2nd or 3rd closest destination (e.g. a grocery store), in order to capture the number of choices that people have.\n",
    "\n",
    "To start with, let's look at the distances to a single tract. Note that `sort_values` will sort the results, so it's easiest to see the smallest and largest distances."
   ]
  },
  {
   "cell_type": "code",
   "execution_count": null,
   "id": "9dccd820",
   "metadata": {},
   "outputs": [],
   "source": [
    "# take the first census tract, and get its geometry\n",
    "tract = incomeDf.iloc[0].geometry\n",
    "\n",
    "# get the distances from this tract to all the food pantries\n",
    "distances = pantrygdf.distance(tract)\n",
    "distances.sort_values(inplace=True)\n",
    "distances"
   ]
  },
  {
   "cell_type": "markdown",
   "id": "stopped-demographic",
   "metadata": {},
   "source": [
    "So how do we know which one is the 3rd closest? We can use `iloc` to get the 3rd row. "
   ]
  },
  {
   "cell_type": "code",
   "execution_count": null,
   "id": "actual-facial",
   "metadata": {},
   "outputs": [],
   "source": [
    "distances.iloc[2]"
   ]
  },
  {
   "cell_type": "markdown",
   "id": "powered-monroe",
   "metadata": {},
   "source": [
    "If we want to calculate the distance to the 3rd closest pantry for each census tract, we can put this in a function.\n",
    "\n",
    "The argument of the function will be the geometry of the tract. It will return the distance.\n",
    "\n",
    "Once we have that function, we can use our old friend `apply` to apply it to every tract in the city of LA."
   ]
  },
  {
   "cell_type": "code",
   "execution_count": null,
   "id": "owned-coordination",
   "metadata": {},
   "outputs": [],
   "source": [
    "def get_3rd_closest_dist(geom):\n",
    "    distances = pantrygdf.distance(geom)\n",
    "    third_closest = distances.sort_values().iloc[2]\n",
    "    return third_closest\n",
    "\n",
    "incomeDf['dist_third_closest'] = incomeDf.geometry.apply(get_3rd_closest_dist)"
   ]
  },
  {
   "cell_type": "code",
   "execution_count": null,
   "id": "julian-difference",
   "metadata": {},
   "outputs": [],
   "source": [
    "incomeDf"
   ]
  },
  {
   "cell_type": "markdown",
   "id": "8e5acf28",
   "metadata": {},
   "source": [
    "Finally, let's plot using the `seaborn.regplot()` function that we saw before."
   ]
  },
  {
   "cell_type": "code",
   "execution_count": null,
   "id": "little-georgia",
   "metadata": {},
   "outputs": [],
   "source": [
    "import seaborn as sns\n",
    "ax = sns.regplot(x=\"median_HH_income\", y=\"dist_third_closest\", data=incomeDf)"
   ]
  },
  {
   "cell_type": "markdown",
   "id": "duplicate-hollow",
   "metadata": {},
   "source": [
    "<div class=\"alert alert-block alert-info\">\n",
    "<h3>Key Takeaways</h3>\n",
    "<ul>\n",
    "  <li>Intersects is the most common spatial predicate, but it's not always what you want.</li>\n",
    "  <li>Areas, lengths, nearest neighbors, and distances are simple to calculate in geopandas.</li>\n",
    "  <li>Use an an appropriate projection.</li>\n",
    "  <li>As with any join, inspect your output. If it's not what you expect, computing summary statistics or mapping can help identify the problem.</li>\n",
    "</ul>\n",
    "</div>"
   ]
  },
  {
   "cell_type": "code",
   "execution_count": null,
   "id": "f4fb8923",
   "metadata": {},
   "outputs": [],
   "source": []
  }
 ],
 "metadata": {
  "kernelspec": {
   "display_name": "Python 3 (ipykernel)",
   "language": "python",
   "name": "python3"
  },
  "language_info": {
   "codemirror_mode": {
    "name": "ipython",
    "version": 3
   },
   "file_extension": ".py",
   "mimetype": "text/x-python",
   "name": "python",
   "nbconvert_exporter": "python",
   "pygments_lexer": "ipython3",
   "version": "3.8.12"
  }
 },
 "nbformat": 4,
 "nbformat_minor": 5
}
