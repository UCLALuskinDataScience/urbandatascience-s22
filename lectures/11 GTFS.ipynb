{
 "cells": [
  {
   "cell_type": "markdown",
   "id": "inner-miracle",
   "metadata": {},
   "source": [
    "# Transit data and GTFS"
   ]
  },
  {
   "cell_type": "markdown",
   "id": "coral-veteran",
   "metadata": {},
   "source": [
    "## Lecture objectives\n",
    "\n",
    "1. Learn how to access and use transit data in GTFS format\n",
    "2. More practice in joins and plotting"
   ]
  },
  {
   "cell_type": "markdown",
   "id": "connected-nirvana",
   "metadata": {},
   "source": [
    "The General Transit Feed Specification is a common format for sharing transit data on schedules, fares, and so on. Here we'll use the `partridge` to parse GTFS data files.\n",
    "\n",
    "I included the data for [Santa Monica Big Blue Bus](http://transitfeeds.com/p/city-of-santa-monica/260) in the git repository. For other agencies, see this [useful compilation](https://github.com/andredarcie/awesome-gtfs).\n",
    "\n",
    "[The partridge documentation](https://github.com/remix/partridge) gives some useful examples and code snippets. \n",
    "\n",
    "First, it seems that we can find the busiest date."
   ]
  },
  {
   "cell_type": "code",
   "execution_count": null,
   "id": "documentary-minority",
   "metadata": {},
   "outputs": [],
   "source": [
    "import partridge as ptg\n",
    "path = 'data/gtfs' # this is the subfolder within your GitHub repository\n",
    "\n",
    "date, service_ids = ptg.read_busiest_date(path)"
   ]
  },
  {
   "cell_type": "markdown",
   "id": "c8f87d86",
   "metadata": {},
   "source": [
    "And then on this date, load the feed. Again, this code snippet is from the `partridge` docs."
   ]
  },
  {
   "cell_type": "code",
   "execution_count": null,
   "id": "b4800715",
   "metadata": {},
   "outputs": [],
   "source": [
    "view = {'trips.txt': {'service_id': service_ids}}\n",
    "\n",
    "feed = ptg.load_geo_feed(path, view)"
   ]
  },
  {
   "cell_type": "markdown",
   "id": "2a940ceb",
   "metadata": {},
   "source": [
    "Now we have an object called feed. Let's explore it.\n"
   ]
  },
  {
   "cell_type": "code",
   "execution_count": null,
   "id": "13eb36ee",
   "metadata": {},
   "outputs": [],
   "source": [
    "feed."
   ]
  },
  {
   "cell_type": "code",
   "execution_count": null,
   "id": "least-lying",
   "metadata": {},
   "outputs": [],
   "source": [
    "feed.routes.head()"
   ]
  },
  {
   "cell_type": "code",
   "execution_count": null,
   "id": "naughty-juvenile",
   "metadata": {},
   "outputs": [],
   "source": [
    "feed.stop_times.head()"
   ]
  },
  {
   "cell_type": "code",
   "execution_count": null,
   "id": "seventh-kinase",
   "metadata": {},
   "outputs": [],
   "source": [
    "feed.stops.head()"
   ]
  },
  {
   "cell_type": "markdown",
   "id": "0c07ba45",
   "metadata": {},
   "source": [
    "The stops has a `geometry` column. Is this a `GeoDataFrame`?"
   ]
  },
  {
   "cell_type": "code",
   "execution_count": null,
   "id": "d2c9e23d",
   "metadata": {},
   "outputs": [],
   "source": [
    "type(feed.stops)"
   ]
  },
  {
   "cell_type": "markdown",
   "id": "00da87a1",
   "metadata": {},
   "source": [
    "Yes! So we can map it."
   ]
  },
  {
   "cell_type": "code",
   "execution_count": null,
   "id": "aa0c88e4",
   "metadata": {},
   "outputs": [],
   "source": [
    "feed.stops.plot()"
   ]
  },
  {
   "cell_type": "markdown",
   "id": "e9afbfc0",
   "metadata": {},
   "source": [
    "Let's compute and map a simple measure of transit accessibility (number of trips per day) at the stop level."
   ]
  },
  {
   "cell_type": "markdown",
   "id": "efficient-appointment",
   "metadata": {},
   "source": [
    "<div class=\"alert alert-block alert-info\">\n",
    "<strong>Thought exercise:</strong> How might you go about this?\n",
    "</div>"
   ]
  },
  {
   "cell_type": "markdown",
   "id": "facf818f",
   "metadata": {},
   "source": [
    "We want a count of the number of trips at each stop. We saw above that `stop_times` had the stop id. So let's do the following:\n",
    "* Aggregate `stop_times` by `stop_id` to generate counts\n",
    "* Join this to the stops data (which has the geometry)\n",
    "* Map the results"
   ]
  },
  {
   "cell_type": "code",
   "execution_count": null,
   "id": "employed-advertising",
   "metadata": {},
   "outputs": [],
   "source": [
    "# we could count any (non-Null) column. I chose trip_id\n",
    "# we could also use size() rather than count()\n",
    "freqs = feed.stop_times.groupby('stop_id').trip_id.count()\n",
    "freqs"
   ]
  },
  {
   "cell_type": "code",
   "execution_count": null,
   "id": "447af92e",
   "metadata": {},
   "outputs": [],
   "source": [
    "# join on the index\n",
    "stops = feed.stops.set_index('stop_id').join(freqs)\n",
    "stops.head()"
   ]
  },
  {
   "cell_type": "code",
   "execution_count": null,
   "id": "6e536005",
   "metadata": {},
   "outputs": [],
   "source": [
    "# our joined column was called trip_id, so n_trips probably makes more sense\n",
    "stops.rename(columns={'trip_id': 'n_trips'}, inplace=True)\n",
    "stops.head()"
   ]
  },
  {
   "cell_type": "code",
   "execution_count": null,
   "id": "2ecd6e4e",
   "metadata": {},
   "outputs": [],
   "source": [
    "# map the results\n",
    "import matplotlib.pyplot as plt\n",
    "import contextily as ctx\n",
    "\n",
    "fig, ax = plt.subplots(figsize=(10,10))\n",
    "stops.to_crs('EPSG:3857').plot(markersize='n_trips', ax=ax)\n",
    "ctx.add_basemap(ax, zoom=12, alpha=0.5)\n",
    "ax.set_xticks([])\n",
    "ax.set_yticks([])"
   ]
  },
  {
   "cell_type": "markdown",
   "id": "2d574f3b",
   "metadata": {},
   "source": [
    "The markers are a little large. Let's create a new column with a scaled version of the marker size, and plot that instead."
   ]
  },
  {
   "cell_type": "code",
   "execution_count": null,
   "id": "420096fe",
   "metadata": {},
   "outputs": [],
   "source": [
    "stops['n_trips_scaled']= stops.n_trips / 3\n",
    "\n",
    "# same code as before, except for plotting n_trips_scaled instead of n_trips\n",
    "fig, ax = plt.subplots(figsize=(10,10))\n",
    "stops.to_crs('EPSG:3857').plot(markersize='n_trips_scaled', ax=ax)\n",
    "ctx.add_basemap(ax, zoom=12, alpha=0.5)\n",
    "ax.set_xticks([])\n",
    "ax.set_yticks([])"
   ]
  },
  {
   "cell_type": "markdown",
   "id": "internal-channels",
   "metadata": {},
   "source": [
    "These accessibility measures are at the stop level, but you can imagine aggregating the combined frequencies to census tracts, and/or calculating the combined frequency within (say) 0.25 miles of a destination."
   ]
  },
  {
   "cell_type": "markdown",
   "id": "duplicate-hollow",
   "metadata": {},
   "source": [
    "<div class=\"alert alert-block alert-info\">\n",
    "<h3>Key Takeaways</h3>\n",
    "<ul>\n",
    "  <li>GTFS is the standard format for transit data</li>\n",
    "  <li>GTFS is cumbersome to work with in raw form, but partridge makes it simpler</li>\n",
    "</ul>\n",
    "</div>"
   ]
  },
  {
   "cell_type": "code",
   "execution_count": null,
   "id": "e0753a15",
   "metadata": {},
   "outputs": [],
   "source": []
  }
 ],
 "metadata": {
  "kernelspec": {
   "display_name": "Python 3 (ipykernel)",
   "language": "python",
   "name": "python3"
  },
  "language_info": {
   "codemirror_mode": {
    "name": "ipython",
    "version": 3
   },
   "file_extension": ".py",
   "mimetype": "text/x-python",
   "name": "python",
   "nbconvert_exporter": "python",
   "pygments_lexer": "ipython3",
   "version": "3.8.12"
  }
 },
 "nbformat": 4,
 "nbformat_minor": 5
}
