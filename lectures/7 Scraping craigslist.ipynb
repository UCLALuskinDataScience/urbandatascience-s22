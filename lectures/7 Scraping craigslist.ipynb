{
 "cells": [
  {
   "cell_type": "markdown",
   "id": "sunrise-lease",
   "metadata": {},
   "source": [
    "# Web scraping part 2: craigslist"
   ]
  },
  {
   "cell_type": "markdown",
   "id": "5a1dfbf1",
   "metadata": {},
   "source": [
    "## Lecture objectives\n",
    "\n",
    "1. More practice with scraping web pages and parsing text\n",
    "2. Learn how to handle errors (\"exceptions\") gracefully\n",
    "3. More pratice with `pandas` and plotting"
   ]
  },
  {
   "cell_type": "markdown",
   "id": "major-watts",
   "metadata": {},
   "source": [
    "## Example: Scraping craigslist data\n",
    "Craiglist provides a wealth of information on apartment rentals and other types of housing, as you can read about in the [Boeing and Waddell paper](https://journals.sagepub.com/doi/abs/10.1177/0739456X16664789). But short of clicking through lots of links, how do we access it?\n",
    "\n",
    "As with any scraping project, the first step is to get an example web page, and see if we can reverse-engineer the structure.\n",
    "\n",
    "One option is to parse each detailed post, with information on parking, desired qualities of roommates, etc. But a lot of information is actually in the [list of posts](https://losangeles.craigslist.org/search/lac/hhh). "
   ]
  },
  {
   "cell_type": "markdown",
   "id": "4e64b024",
   "metadata": {},
   "source": [
    "**Option 1**. You can download the most recent posts yourself."
   ]
  },
  {
   "cell_type": "code",
   "execution_count": null,
   "id": "subjective-maker",
   "metadata": {},
   "outputs": [],
   "source": [
    "import requests\n",
    "from bs4 import BeautifulSoup\n",
    "\n",
    "url = 'https://losangeles.craigslist.org/search/lac/hhh'\n",
    "r = requests.get(url)\n",
    "\n",
    "soup = BeautifulSoup(r.content)\n",
    "print(soup.prettify())"
   ]
  },
  {
   "cell_type": "markdown",
   "id": "a7d0fee9",
   "metadata": {},
   "source": [
    "**Option 2.** You can access the same page as I show below, which I saved to the GitHub repository."
   ]
  },
  {
   "cell_type": "code",
   "execution_count": null,
   "id": "4336bbb4",
   "metadata": {},
   "outputs": [],
   "source": [
    "# this is how I saved it\n",
    "#with open(\"craigslist_pages/craigslist.txt\", \"wb\") as f:\n",
    "#    f.write(r.content)\n",
    "\n",
    "with open(\"craigslist_pages/craigslist.txt\", \"r\") as f:\n",
    "    saved_content = f.read()\n",
    "    \n",
    "# the saved_content variable now contains what I originally had in r.content\n",
    "# so we can create a BeautifulSoup object in the same way\n",
    "soup = BeautifulSoup(saved_content)\n",
    "print(soup.prettify())"
   ]
  },
  {
   "cell_type": "markdown",
   "id": "charming-pricing",
   "metadata": {},
   "source": [
    "Let's look at the output to figure out how to parse it.\n",
    "\n",
    "Again, this takes some detective work and trial and error.\n",
    "\n",
    "It looks like each post is in a `<li>` tag. Moreover, note that it's also in a `class` called `result-row`. Structured data like this make it much easier to scrape! The `find_all()` function takes an optional `class_` argument that can filter by class."
   ]
  },
  {
   "cell_type": "code",
   "execution_count": null,
   "id": "unnecessary-experience",
   "metadata": {},
   "outputs": [],
   "source": [
    "posts = soup.find_all('li', class_= 'result-row')\n",
    "\n",
    "# Note that there are 120 results, which is the number of posts returned on the Craigslist webpage. \n",
    "# That's a good sign!\n",
    "print(len(posts))\n"
   ]
  },
  {
   "cell_type": "markdown",
   "id": "44c085c0",
   "metadata": {},
   "source": [
    "Let's look at a sample post."
   ]
  },
  {
   "cell_type": "code",
   "execution_count": null,
   "id": "95ef2e83",
   "metadata": {},
   "outputs": [],
   "source": [
    "posts[0]"
   ]
  },
  {
   "cell_type": "markdown",
   "id": "tight-colors",
   "metadata": {},
   "source": [
    "It looks like the price and the neighborhood have their own class, within the `span` tag. \n",
    "The title and URL look like they are within the `a` tag. The number of bedrooms is a bit more complicated, but it's somewhere in the housing class.\n",
    "\n",
    "Let's test this out. Note that `find()` will get the first occurence."
   ]
  },
  {
   "cell_type": "code",
   "execution_count": null,
   "id": "handmade-filling",
   "metadata": {},
   "outputs": [],
   "source": [
    "print(posts[0].find('span', class_= 'result-price').text)"
   ]
  },
  {
   "cell_type": "markdown",
   "id": "707eb044",
   "metadata": {},
   "source": [
    "`find_all()` will get all of them, and return a list. But in the craigslist posts, there's only either one occurence or they are all the same, so `find` is easier."
   ]
  },
  {
   "cell_type": "code",
   "execution_count": null,
   "id": "8cce1744",
   "metadata": {},
   "outputs": [],
   "source": [
    "print(posts[0].find_all('span', class_= 'result-price'))"
   ]
  },
  {
   "cell_type": "markdown",
   "id": "321be444",
   "metadata": {},
   "source": [
    "Notice that we got a 1-element list. We'd then have to get the first element, and use `text` to get the text that is contained."
   ]
  },
  {
   "cell_type": "code",
   "execution_count": null,
   "id": "869de827",
   "metadata": {},
   "outputs": [],
   "source": [
    "print(posts[0].find_all('span', class_= 'result-price')[0].text)"
   ]
  },
  {
   "cell_type": "markdown",
   "id": "5367a63f",
   "metadata": {},
   "source": [
    "What about the other attributes that might be interesting?"
   ]
  },
  {
   "cell_type": "code",
   "execution_count": null,
   "id": "257c8aa7",
   "metadata": {},
   "outputs": [],
   "source": [
    "print('\\nNeighborhood:') # \\n adds an empty line before\n",
    "print(posts[0].find('span', class_= 'result-hood').text)\n",
    "\n",
    "print('\\nHousing size:')\n",
    "print(posts[0].find('span', class_= 'housing').text)\n",
    "\n",
    "print('\\nTitle:')\n",
    "print(posts[0].find('a', class_= 'result-title').text)\n"
   ]
  },
  {
   "cell_type": "markdown",
   "id": "65265067",
   "metadata": {},
   "source": [
    "We can also extract the URL of the page that is linked. But if you look at the output above, it's not in the text, but within the `result-title` class."
   ]
  },
  {
   "cell_type": "code",
   "execution_count": null,
   "id": "312b2f21",
   "metadata": {},
   "outputs": [],
   "source": [
    "# except the URL has it's own key\n",
    "print('\\nURL:')\n",
    "print(posts[0].find('a', class_= 'result-title'))"
   ]
  },
  {
   "cell_type": "markdown",
   "id": "1d278d7d",
   "metadata": {},
   "source": [
    "So we can extract it by calling the `href` key."
   ]
  },
  {
   "cell_type": "code",
   "execution_count": null,
   "id": "218020f9",
   "metadata": {},
   "outputs": [],
   "source": [
    "print(posts[0].find('a', class_= 'result-title')['href'])"
   ]
  },
  {
   "cell_type": "markdown",
   "id": "constant-romania",
   "metadata": {},
   "source": [
    "Now we understand the structure of each page. So we are ready to put all of the posts in a dataframe.\n",
    "\n",
    "`pandas` can create a dataframe from many different data structures. But one of the easiest ways to is to create a list of dictionaries, and then tell `pandas` to convert that into a dataframe. \n",
    "\n",
    "Each element of the list will be a craigslist post. Within that list element, we have a dictionary of columns."
   ]
  },
  {
   "cell_type": "markdown",
   "id": "34a69779",
   "metadata": {},
   "source": [
    "Remember that `posts` held our list of posts"
   ]
  },
  {
   "cell_type": "code",
   "execution_count": null,
   "id": "e23b0b19",
   "metadata": {},
   "outputs": [],
   "source": [
    "print(type(posts))\n",
    "print(len(posts))"
   ]
  },
  {
   "cell_type": "code",
   "execution_count": null,
   "id": "bb6713cc",
   "metadata": {},
   "outputs": [],
   "source": [
    "print(posts[0])"
   ]
  },
  {
   "cell_type": "markdown",
   "id": "55720210",
   "metadata": {},
   "source": [
    "So let's loop over them."
   ]
  },
  {
   "cell_type": "code",
   "execution_count": null,
   "id": "dirty-expansion",
   "metadata": {},
   "outputs": [],
   "source": [
    "import pandas as pd\n",
    "postList = [] # empty list that we can append to\n",
    "\n",
    "for post in posts:\n",
    "    # create temporary variables with the attributes that we extract from each post\n",
    "    price = post.find('span', class_= 'result-price').text\n",
    "    neighborhood = post.find('span', class_= 'result-hood').text\n",
    "    housingsize = post.find('span', class_= 'housing').text\n",
    "    title = post.find('a', class_= 'result-title').text\n",
    "    url = post.find('a', class_= 'result-title')['href']\n",
    "\n",
    "    # put them all in a dictionary\n",
    "    postDict = {'price': price, 'neighborhood':neighborhood, \n",
    "                'housingsize':housingsize, 'title':title, 'url':url}\n",
    "    \n",
    "    # append that dictionary to our list\n",
    "    postList.append(postDict)\n",
    "    \n",
    "# turn the list into a dataframe\n",
    "df = pd.DataFrame(postList)\n"
   ]
  },
  {
   "cell_type": "markdown",
   "id": "d8bfb0f2",
   "metadata": {},
   "source": [
    "### Catching exceptions\n",
    "What went wrong? Let's unpack this error.\n",
    "\n",
    "It looks like we couldn't get our `housingsize` variable, because there was no text.\n",
    "\n",
    "So what if we back up and see what that object looks like, before we try and get the text?"
   ]
  },
  {
   "cell_type": "code",
   "execution_count": null,
   "id": "03f6ae7f",
   "metadata": {},
   "outputs": [],
   "source": [
    "post.find('span', class_= 'housing')"
   ]
  },
  {
   "cell_type": "markdown",
   "id": "d86b6373",
   "metadata": {},
   "source": [
    "Nothing! How come?"
   ]
  },
  {
   "cell_type": "code",
   "execution_count": null,
   "id": "c7ba42d0",
   "metadata": {},
   "outputs": [],
   "source": [
    "print(type(post.find('span', class_= 'housing')))"
   ]
  },
  {
   "cell_type": "markdown",
   "id": "463b694f",
   "metadata": {},
   "source": [
    "Aha. It's a `None` object - basically empty. And so we can't ask to get the text where nothing exists.\n",
    "\n",
    "How can we be more robust to these errors (technically, \"exceptions\")?\n",
    "\n",
    "One way is to use `try...except`. We `try` a block of code, and if something goes wrong, we execute the alternative code under `except`."
   ]
  },
  {
   "cell_type": "code",
   "execution_count": null,
   "id": "8fe73192",
   "metadata": {},
   "outputs": [],
   "source": [
    "import pandas as pd\n",
    "postList = [] # empty list that we can append to\n",
    "\n",
    "for post in posts:\n",
    "    try:\n",
    "        # create temporary variables with the attributes that we extract from each post\n",
    "        price = post.find('span', class_= 'result-price').text\n",
    "        neighborhood = post.find('span', class_= 'result-hood').text\n",
    "        housingsize = post.find('span', class_= 'housing').text\n",
    "        title = post.find('a', class_= 'result-title').text\n",
    "        url = post.find('a', class_= 'result-title')['href']\n",
    "\n",
    "        # put them all in a dictionary\n",
    "        postDict = {'price': price, 'neighborhood':neighborhood, \n",
    "                    'housingsize':housingsize, 'title':title, 'url':url}\n",
    "\n",
    "        # append that dictionary to our list\n",
    "        postList.append(postDict)\n",
    "    except: # we could also be more specific, e.g. except AttributeError:\n",
    "        # this is only excecuted if the code under try fails\n",
    "        # if there's a problem, we'll just append an empty dictionary\n",
    "        postList.append({})\n",
    "    \n",
    "# turn the list into a dataframe\n",
    "df = pd.DataFrame(postList)\n",
    "\n",
    "df\n"
   ]
  },
  {
   "cell_type": "markdown",
   "id": "2d27d213",
   "metadata": {},
   "source": [
    "So we find the errant row - 116. (There could be others too.)\n",
    "\n",
    "The `try...except` syntax is useful, but a blunt instrument. Notice that we lose all the data for that posting, not just the housing size.\n",
    "\n",
    "As an alternative, we could explicitly check for missing data at each step."
   ]
  },
  {
   "cell_type": "code",
   "execution_count": null,
   "id": "e7dc205d",
   "metadata": {},
   "outputs": [],
   "source": [
    "postList = []\n",
    "\n",
    "for post in posts:\n",
    "    result_price = post.find('span', class_= 'result-price')\n",
    "    if result_price is None:\n",
    "        price = None\n",
    "    else:\n",
    "        price = result_price.text\n",
    "    \n",
    "    resulthood = post.find('span', class_= 'result-hood')\n",
    "    if resulthood is None:\n",
    "        neighborhood = None\n",
    "    else:\n",
    "        neighborhood = resulthood.text \n",
    "        \n",
    "    # we can also have our if..else statements as a one-liner\n",
    "    # this is identical to the above\n",
    "    neighborhood = None if resulthood is None else resulthood.text\n",
    "\n",
    "    housing = post.find('span', class_= 'housing')\n",
    "    housingsize = None if housing is None else housing.text\n",
    "        \n",
    "    # these two fields seem to be always present, so no need to check for None\n",
    "    title = post.find('a', class_= 'result-title').text\n",
    "    url = post.find('a', class_= 'result-title')['href']\n",
    "\n",
    "    # now put them in the dictionary, and append to our list\n",
    "    postList.append({'price': price, 'neighborhood':neighborhood, \n",
    "                     'housingsize':housingsize, 'title':title, 'url':url})\n",
    "\n",
    "df = pd.DataFrame(postList)\n",
    "\n",
    "df"
   ]
  },
  {
   "cell_type": "markdown",
   "id": "ebfd04e7",
   "metadata": {},
   "source": [
    "Notice that we got some partial data for row 116."
   ]
  },
  {
   "cell_type": "markdown",
   "id": "0a809929",
   "metadata": {},
   "source": [
    "### Parsing and cleaning the text"
   ]
  },
  {
   "cell_type": "markdown",
   "id": "normal-index",
   "metadata": {},
   "source": [
    "So it looks pretty good, except for the `housingsize` field. What's going on here?"
   ]
  },
  {
   "cell_type": "code",
   "execution_count": null,
   "id": "royal-apartment",
   "metadata": {},
   "outputs": [],
   "source": [
    "df.housingsize"
   ]
  },
  {
   "cell_type": "markdown",
   "id": "2f9b131c",
   "metadata": {},
   "source": [
    "Hmm. Not very helpful. Let's look at the first row."
   ]
  },
  {
   "cell_type": "code",
   "execution_count": null,
   "id": "3d82566d",
   "metadata": {},
   "outputs": [],
   "source": [
    "print(df.housingsize.iloc[0])"
   ]
  },
  {
   "cell_type": "markdown",
   "id": "sufficient-afternoon",
   "metadata": {},
   "source": [
    "It looks like there is a lot of whitespace here. And sometimes, the field contains ft2, sometimes br, sometimes neither and sometimes both.\n",
    "\n",
    "Let's use the `str.split()` function to split the string by the whitespace. The function takes a string, and returns a list."
   ]
  },
  {
   "cell_type": "code",
   "execution_count": null,
   "id": "e2ad10ec",
   "metadata": {},
   "outputs": [],
   "source": [
    "str.split?"
   ]
  },
  {
   "cell_type": "code",
   "execution_count": null,
   "id": "c0443e32",
   "metadata": {},
   "outputs": [],
   "source": [
    "# example\n",
    "'Splitting this sentence into words'.split()"
   ]
  },
  {
   "cell_type": "markdown",
   "id": "db0a2b67",
   "metadata": {},
   "source": [
    "We can apply the `split()` function to every row of the pandas dataframe."
   ]
  },
  {
   "cell_type": "code",
   "execution_count": null,
   "id": "foreign-treat",
   "metadata": {},
   "outputs": [],
   "source": [
    "print(df.housingsize.str.split())"
   ]
  },
  {
   "cell_type": "markdown",
   "id": "violent-wright",
   "metadata": {},
   "source": [
    "<div class=\"alert alert-block alert-info\">\n",
    "<strong>Exercise:</strong> Conceptually, how would you go about creating two new fields in the dataframe—bedrooms and sqft? Write some code if you can, but the most important step is to think through how you'd do it in words.\n",
    "</div>"
   ]
  },
  {
   "cell_type": "markdown",
   "id": "0265e49a",
   "metadata": {},
   "source": [
    "We need to consider the possibilities that the list has information on bedrooms, square feet, both or neither. So let's write a function that looks at each element of the list."
   ]
  },
  {
   "cell_type": "code",
   "execution_count": null,
   "id": "rotary-emperor",
   "metadata": {},
   "outputs": [],
   "source": [
    "import numpy as np\n",
    "def extract_sqft(housingsize):\n",
    "    if housingsize is None:\n",
    "        return np.nan\n",
    "    \n",
    "    hlist = housingsize.split()\n",
    "    sqft = None  # set the variable as None at the start, in case the loop below doesn't return a match\n",
    "    \n",
    "    # loop over each element of the list and check to see if ft2 is there\n",
    "    for h in hlist:\n",
    "        if 'ft2' in h:\n",
    "            # if it is, clean up the string. We replace 'ft2' with an empty string, and convert to an integer\n",
    "            sqft = int(h.replace('ft2',''))\n",
    "    return sqft\n",
    "\n",
    "# try it with one example\n",
    "# the triple quotes allow a string to extend over multiple lines\n",
    "extract_sqft('''1br -\n",
    "                    647ft2 -''')"
   ]
  },
  {
   "cell_type": "code",
   "execution_count": null,
   "id": "2f4cc1d5",
   "metadata": {},
   "outputs": [],
   "source": [
    "# apply it to all rows\n",
    "df['sq_ft']=df.housingsize.apply(extract_sqft)\n",
    "df.head()"
   ]
  },
  {
   "cell_type": "markdown",
   "id": "closing-edward",
   "metadata": {},
   "source": [
    "You could write a similar function to extract the number of bedrooms.\n",
    "\n",
    "### Plotting\n",
    "\n",
    "Now let's plot the distribution of price. A box plot would be a good choice here."
   ]
  },
  {
   "cell_type": "code",
   "execution_count": null,
   "id": "modern-instruction",
   "metadata": {},
   "outputs": [],
   "source": [
    "df.boxplot('price')\n"
   ]
  },
  {
   "cell_type": "markdown",
   "id": "aa1d7f29",
   "metadata": {},
   "source": [
    "Oops. What went wrong? \n",
    "\n",
    "The error message isn't terribly helpful, so let's look at the data."
   ]
  },
  {
   "cell_type": "code",
   "execution_count": null,
   "id": "db480863",
   "metadata": {},
   "outputs": [],
   "source": [
    "df.price.head()"
   ]
  },
  {
   "cell_type": "markdown",
   "id": "e259f259",
   "metadata": {},
   "source": [
    "Aha. We can't do a boxplot of a string! So let's convert it to a number. This is a three-stage process:\n",
    "* Remove the `$` (replace `$` with an empty string)\n",
    "* Do the same for the `,`\n",
    "* Convert to a float. The pandas `astype` function is useful here.\n",
    "\n",
    "Let's do this and store the output in a new column, `price_numeric`."
   ]
  },
  {
   "cell_type": "code",
   "execution_count": null,
   "id": "nuclear-temperature",
   "metadata": {},
   "outputs": [],
   "source": [
    "df['price_numeric'] = df.price.str.replace('$','').str.replace(',','').astype(float)"
   ]
  },
  {
   "cell_type": "code",
   "execution_count": null,
   "id": "willing-married",
   "metadata": {},
   "outputs": [],
   "source": [
    "df.boxplot('price_numeric')"
   ]
  },
  {
   "cell_type": "markdown",
   "id": "2e9ef7cc",
   "metadata": {},
   "source": [
    "We can also break it out by neighborhood using the `by` argument.\n",
    "\n",
    "But what's the problem here?"
   ]
  },
  {
   "cell_type": "code",
   "execution_count": null,
   "id": "damaged-adelaide",
   "metadata": {},
   "outputs": [],
   "source": [
    "df.boxplot('price_numeric', by='neighborhood')"
   ]
  },
  {
   "cell_type": "markdown",
   "id": "5d4ea2ec",
   "metadata": {},
   "source": [
    "There are several ways to examine the contents of a pandas DataFrame column. `unique()` can be useful.\n",
    "\n",
    "Here, we see that there isn't a fixed set of neighborhood names, and so further cleaning would be needed."
   ]
  },
  {
   "cell_type": "code",
   "execution_count": null,
   "id": "6f427798",
   "metadata": {},
   "outputs": [],
   "source": [
    "df.neighborhood.unique()"
   ]
  },
  {
   "cell_type": "markdown",
   "id": "957ec802",
   "metadata": {},
   "source": [
    "What about the relationship between prices and the apartment size?"
   ]
  },
  {
   "cell_type": "code",
   "execution_count": null,
   "id": "ad6ade1e",
   "metadata": {},
   "outputs": [],
   "source": [
    "df.plot('sq_ft', 'price_numeric', kind='scatter')"
   ]
  },
  {
   "cell_type": "markdown",
   "id": "dominant-environment",
   "metadata": {},
   "source": [
    "So now we've created a dataframe that extracts all the posts on the first page! \n",
    "\n",
    "There's still quite a bit to do. For example:\n",
    "\n",
    "* We only have one page, and it would be useful to get data from the subsequent pages\n",
    "* Our neighborhood field is really dirty, so it's hard to do any mapping\n",
    "* We don't have any information about parking\n",
    "* We don't have the geographic coordinates (lat/lon)\n",
    "\n",
    "But let's leave those for future work. "
   ]
  },
  {
   "cell_type": "markdown",
   "id": "occasional-boring",
   "metadata": {},
   "source": [
    "<div class=\"alert alert-block alert-info\">\n",
    "<h3>Key Takeaways</h3>\n",
    "<ul>\n",
    "  <li>Scraping unstructured webpages involves more detective work and trial and error.</li>\n",
    "  <li>Some will have a consistent format and helpful class codes and html tags. Some won't.</li>\n",
    "  <li>Your code will need to be robust to missing fields and other inconsistencies in page formatting.</li>\n",
    "  <li>Be nice! You may need to slow the pace of your requests down.</li>\n",
    "</ul>\n",
    "</div>"
   ]
  }
 ],
 "metadata": {
  "kernelspec": {
   "display_name": "Python 3 (ipykernel)",
   "language": "python",
   "name": "python3"
  },
  "language_info": {
   "codemirror_mode": {
    "name": "ipython",
    "version": 3
   },
   "file_extension": ".py",
   "mimetype": "text/x-python",
   "name": "python",
   "nbconvert_exporter": "python",
   "pygments_lexer": "ipython3",
   "version": "3.8.12"
  }
 },
 "nbformat": 4,
 "nbformat_minor": 5
}
