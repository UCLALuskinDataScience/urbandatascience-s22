{
 "cells": [
  {
   "cell_type": "markdown",
   "id": "coated-diving",
   "metadata": {},
   "source": [
    "# Getting census data"
   ]
  },
  {
   "cell_type": "markdown",
   "id": "familiar-professor",
   "metadata": {},
   "source": [
    "## Lecture objectives\n",
    "\n",
    "1. Gain more experience with APIs and `requests`\n",
    "2. Learn specialized ways to access census data\n",
    "3. Pratice with `pandas`, `geopandas`, and plotting\n"
   ]
  },
  {
   "cell_type": "markdown",
   "id": "sticky-harmony",
   "metadata": {},
   "source": [
    "Traditionally, if you wanted census data, you had to download .csv or other files and decipher them. Recently, the census has introduced an API. [See the documentation here](https://www.census.gov/data/developers/guidance/api-user-guide.Example_API_Queries.html).\n",
    "\n",
    "If you request more than 500 queries a day, you'll need to register for a (free) [API key](https://www.census.gov/data/developers/guidance/api-user-guide.Help_&_Contact_Us.html) from the Census Bureau.\n",
    "\n",
    "Let's download population by county from the 2015 American Community Survey five-year estimates. We see from the documentation that the API call takes the following form:\n",
    "\n",
    "`https://api.census.gov/data/YEAR/acs/DATASET?get=TABLENAME&for=GEOGRAPHY`\n",
    "\n",
    "So getting the population (variable `B01001_001E`) for all counties is:\n",
    "\n",
    "`https://api.census.gov/data/2015/acs/acs5?get=B01001_001E&for=county`\n",
    "\n",
    "Try this in your browser.\n",
    "\n",
    "Now let's get it into Python."
   ]
  },
  {
   "cell_type": "code",
   "execution_count": null,
   "id": "recovered-marketplace",
   "metadata": {},
   "outputs": [],
   "source": [
    "import requests\n",
    "r = requests.get('https://api.census.gov/data/2015/acs/acs5?get=B01001_001E&for=county')\n",
    "type(r.text)\n",
    "# This time, it looks like the data come in a string\n",
    "print(r.text)"
   ]
  },
  {
   "cell_type": "code",
   "execution_count": null,
   "id": "behavioral-particular",
   "metadata": {},
   "outputs": [],
   "source": [
    "# But turns out that it's actually a JSON\n",
    "censusdata = r.json()\n",
    "type(censusdata)"
   ]
  },
  {
   "cell_type": "code",
   "execution_count": null,
   "id": "radio-survival",
   "metadata": {},
   "outputs": [],
   "source": [
    "# The JSON format is a list of lists. The first sublist is the column headers\n",
    "censusdata[:5] # show the first five rows"
   ]
  },
  {
   "cell_type": "code",
   "execution_count": null,
   "id": "surgical-miller",
   "metadata": {},
   "outputs": [],
   "source": [
    "# So we can also convert this to a pandas dataframe, if we use the first list as the column names\n",
    "# Note that the state and county are shown by their FIPS codes\n",
    "import pandas as pd\n",
    "df = pd.DataFrame(censusdata[1:], columns=censusdata[0])\n",
    "df"
   ]
  },
  {
   "cell_type": "markdown",
   "id": "43858c10",
   "metadata": {},
   "source": [
    "Let's rename the column to something more meaningful. `pandas` has a helpful `rename` function."
   ]
  },
  {
   "cell_type": "code",
   "execution_count": null,
   "id": "872ea872",
   "metadata": {},
   "outputs": [],
   "source": [
    "df.rename?"
   ]
  },
  {
   "cell_type": "code",
   "execution_count": null,
   "id": "150258e3",
   "metadata": {},
   "outputs": [],
   "source": [
    "# note the inplace keyword changes the dataframe in place, rather than returning a copy\n",
    "df.rename(columns = {'B01001_001E':'population'}, inplace=True)\n",
    "df"
   ]
  },
  {
   "cell_type": "markdown",
   "id": "material-kitchen",
   "metadata": {},
   "source": [
    "### Using cenpy\n",
    "It turns out that there is an easier way to get the census data. Rather than using the Census API, we can call it through the `cenpy` package."
   ]
  },
  {
   "cell_type": "code",
   "execution_count": null,
   "id": "answering-withdrawal",
   "metadata": {},
   "outputs": [],
   "source": [
    "import cenpy\n",
    "from cenpy import products\n",
    "\n",
    "# create a connection to the American Community Survey\n",
    "acs = cenpy.products.ACS()"
   ]
  },
  {
   "cell_type": "markdown",
   "id": "25d0460c",
   "metadata": {},
   "source": [
    "The [online documentation](https://cenpy-devs.github.io/cenpy/api.html#product-american-community-survey) is helpful in showing the functions that are available. We could also call `help(acs)` or just `acs?`.\n",
    "\n",
    "The `tables` attribute  seems useful, as do the `filter_tables` and `from_county` functions."
   ]
  },
  {
   "cell_type": "code",
   "execution_count": null,
   "id": "conventional-agenda",
   "metadata": {},
   "outputs": [],
   "source": [
    "# what tables are available?\n",
    "acs.tables?"
   ]
  },
  {
   "cell_type": "code",
   "execution_count": null,
   "id": "potential-private",
   "metadata": {},
   "outputs": [],
   "source": [
    "# Let's map the age of the housing stock\n",
    "# get all the tables that have \"BUILT\" in their description\n",
    "acs.filter_tables('BUILT', by='description')"
   ]
  },
  {
   "cell_type": "code",
   "execution_count": null,
   "id": "historic-survival",
   "metadata": {},
   "outputs": [],
   "source": [
    "# it looks like table B25035 and variable B25035_001E are promising, Let's see what is here in Riverside County\n",
    "riverside = products.ACS(2017).from_county('Riverside, CA', level='tract',\n",
    "                                        variables='B25035_001E')\n",
    "\n",
    "# you might get a bunch of FutureWarnings, but you can ignore these"
   ]
  },
  {
   "cell_type": "code",
   "execution_count": null,
   "id": "revolutionary-tennis",
   "metadata": {},
   "outputs": [],
   "source": [
    "# It looks like cenpy gives us a geopandas dataframe\n",
    "type(riverside)"
   ]
  },
  {
   "cell_type": "code",
   "execution_count": null,
   "id": "literary-lending",
   "metadata": {},
   "outputs": [],
   "source": [
    "riverside.head()"
   ]
  },
  {
   "cell_type": "code",
   "execution_count": null,
   "id": "funny-jenny",
   "metadata": {},
   "outputs": [],
   "source": [
    "# let's rename the census column to something more memorable\n",
    "riverside.rename(columns={'B25035_001E':'Median year built'}, inplace=True)"
   ]
  },
  {
   "cell_type": "code",
   "execution_count": null,
   "id": "personalized-collection",
   "metadata": {},
   "outputs": [],
   "source": [
    "riverside.head()"
   ]
  },
  {
   "cell_type": "markdown",
   "id": "96fbf314",
   "metadata": {},
   "source": [
    "`GEOID` gives the standard census FIPS code, formatted as 2-digit state + 3-digit county + 6 digit tract. Read more about them [here](https://www.policymap.com/2012/08/tips-on-fips-a-quick-guide-to-geographic-place-codes-part-iii/)\n",
    "\n",
    "`cenpy` also returns the geographic boundaries of each census tract as a polygon. This is helpful! And it means that we can plot the data pretty simply.\n",
    "\n",
    "Here, we use the standard `geopandas` plotting function. We tell it to plot the `Median year built` column, on the `ax` object that we just created."
   ]
  },
  {
   "cell_type": "code",
   "execution_count": null,
   "id": "baking-affair",
   "metadata": {},
   "outputs": [],
   "source": [
    "import matplotlib.pyplot as plt \n",
    "\n",
    "# create a matplotlib figure and axis object\n",
    "fig, ax = plt.subplots(1,1,figsize=(20,10))\n",
    "\n",
    "riverside.plot('Median year built', ax=ax, cmap='plasma', legend=True, \n",
    "               legend_kwds={'orientation': 'horizontal'})\n",
    "ax.set_facecolor('k')"
   ]
  },
  {
   "cell_type": "markdown",
   "id": "ec6f4008",
   "metadata": {},
   "source": [
    "There is much that we could do to improve this map, but let's save that for another time. In general, the best course is to follow the numerous examples for `geopandas` that you'll find online."
   ]
  },
  {
   "cell_type": "markdown",
   "id": "excellent-spank",
   "metadata": {},
   "source": [
    "<div class=\"alert alert-block alert-info\">\n",
    "<h3>Key Takeaways</h3>\n",
    "<ul>\n",
    "  <li>Getting census data is one of the most common tasks you'll do in this course.</li>\n",
    "  <li>The Census Bureau has a well-documented API, that may be useful for more specialized queries.</li>\n",
    "  <li>For simple queries, cenpy is a good alternative.</li>\n",
    "</ul>\n",
    "</div>"
   ]
  },
  {
   "cell_type": "code",
   "execution_count": null,
   "id": "174fa2bb",
   "metadata": {},
   "outputs": [],
   "source": []
  }
 ],
 "metadata": {
  "kernelspec": {
   "display_name": "Python 3 (ipykernel)",
   "language": "python",
   "name": "python3"
  },
  "language_info": {
   "codemirror_mode": {
    "name": "ipython",
    "version": 3
   },
   "file_extension": ".py",
   "mimetype": "text/x-python",
   "name": "python",
   "nbconvert_exporter": "python",
   "pygments_lexer": "ipython3",
   "version": "3.8.12"
  }
 },
 "nbformat": 4,
 "nbformat_minor": 5
}
