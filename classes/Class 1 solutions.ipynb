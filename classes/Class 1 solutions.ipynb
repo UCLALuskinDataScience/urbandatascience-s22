{
 "cells": [
  {
   "cell_type": "markdown",
   "id": "53fce03f",
   "metadata": {},
   "source": [
    "## Week 1 Class activities\n",
    "This notebook is a starting point for the exercises and activities that we'll do in class.\n",
    "\n",
    "Before you attempt any of these activities, make sure to watch the Week 1 video lectures."
   ]
  },
  {
   "cell_type": "markdown",
   "id": "c092609b",
   "metadata": {},
   "source": [
    "### Using the `requests` library to query an API\n",
    "Here's the code that we saw in the video lecture that queries BART for real-time arrivals."
   ]
  },
  {
   "cell_type": "code",
   "execution_count": null,
   "id": "89222500",
   "metadata": {},
   "outputs": [],
   "source": [
    "import json\n",
    "import pandas as pd\n",
    "import requests\n",
    "\n",
    "APIkey = 'MW9S-E7SL-26DU-VV8V'  # the key posted on BART's website\n",
    "station = 'CIVC'\n",
    "requestString = 'http://api.bart.gov/api/etd.aspx?cmd=etd&orig={}&json=y&key={}&dir=s'.format(station, APIkey)\n",
    "r = requests.get(requestString)\n",
    "d = json.loads(r.text)\n",
    "etd = d['root']['station'][0]['etd']\n",
    "print('Trains from {} to {}'.format(station, etd[0]['destination']))\n",
    "df = pd.DataFrame(etd[0]['estimate'])\n",
    "df"
   ]
  },
  {
   "cell_type": "markdown",
   "id": "5e6d730d",
   "metadata": {},
   "source": [
    "<div class=\"alert alert-block alert-info\">\n",
    "<strong>Exercise:</strong> Explore the different objects. What are <strong>r</strong>, <strong>d</strong>, and <strong>etd</strong>. What can you do with them?\n",
    "</div>"
   ]
  },
  {
   "cell_type": "markdown",
   "id": "77669ec3",
   "metadata": {},
   "source": [
    "Hint: Use `type()` to find out the type of an object (e.g. `type(r)`), and `?` to pull up the help screen (e.g. `r?`).\n",
    "\n",
    "You can also tab autocomplete to discover an object's attributes and methods (e.g. `r.` and then `TAB`). "
   ]
  },
  {
   "cell_type": "code",
   "execution_count": null,
   "id": "af29ac85",
   "metadata": {},
   "outputs": [],
   "source": [
    "# your code here\n",
    "r."
   ]
  },
  {
   "cell_type": "markdown",
   "id": "98e25862",
   "metadata": {},
   "source": [
    "Now let's explore the other options and API commands that BART offers. \n",
    "\n",
    "The API documentation for the `etd` (real-time information) command is [here](https://api.bart.gov/docs/etd/etd.aspx). "
   ]
  },
  {
   "cell_type": "markdown",
   "id": "19e3f6d0",
   "metadata": {},
   "source": [
    "<div class=\"alert alert-block alert-info\">\n",
    "<strong>Exercise:</strong> Write a command to retrieve real-time departures for southbound trains at Civic Center station (code: CIVC). Hint: You'll need to add another <strong>&</strong> to <strong>requestString</strong>.\n",
    "</div>"
   ]
  },
  {
   "cell_type": "code",
   "execution_count": null,
   "id": "9f8705a1",
   "metadata": {},
   "outputs": [],
   "source": [
    "# suggested solution\n",
    "import json\n",
    "import pandas as pd\n",
    "import requests\n",
    "\n",
    "APIkey = 'MW9S-E7SL-26DU-VV8V'  # the key posted on BART's website\n",
    "station = 'CIVC'\n",
    "requestString = 'http://api.bart.gov/api/etd.aspx?cmd=etd&orig={}&json=y&key={}&dir=s'.format(station, APIkey)\n",
    "r_2 = requests.get(requestString)\n",
    "d_2 = json.loads(r_2.text)\n",
    "etd_2 = d_2['root']['station'][0]['etd'][0]['estimate']\n",
    "pd.DataFrame(etd_2)\n",
    "\n"
   ]
  },
  {
   "cell_type": "markdown",
   "id": "dd5bdf82",
   "metadata": {},
   "source": [
    "<div class=\"alert alert-block alert-info\">\n",
    "    <strong>Exercise:</strong> Use the <strong>elev</strong> command to obtain the elevator status at each station, and put it in a dataframe. Optional extension: pass the parameters as a dictionary to requests, as we saw in the video lecture."
   ]
  },
  {
   "cell_type": "markdown",
   "id": "1489bc0c",
   "metadata": {},
   "source": [
    "See the API docs [here](https://api.bart.gov/docs/bsa/elev.aspx) for details of that command."
   ]
  },
  {
   "cell_type": "code",
   "execution_count": null,
   "id": "806158ab",
   "metadata": {},
   "outputs": [],
   "source": [
    "requestString = 'http://api.bart.gov/api/bsa.aspx?cmd=elev&json=y&key={}'.format(APIkey)\n",
    "r = requests.get(requestString)\n",
    "d = json.loads(r.text)\n",
    "pd.DataFrame(d['root']['bsa'])\n",
    "\n",
    "# note that there isn't a station-by-station response, so this is a less satisfying\n",
    "# dataframe than before\n",
    "# we could go further, but would need to extract the stations from the description colum"
   ]
  },
  {
   "cell_type": "markdown",
   "id": "eb62fb82",
   "metadata": {},
   "source": [
    "### Accessing census data\n",
    "\n",
    "Recall that we have seen two ways to access census data:\n",
    "* The Census Bureau API\n",
    "* The `cenpy` library\n",
    "\n",
    "Let's try them both and map patterns of race for Los Angeles County. \n",
    "\n",
    "Here's the relevant code that we saw in the video lecture to get the 5-year ACS estimates for population (table `B01001_001E`)."
   ]
  },
  {
   "cell_type": "code",
   "execution_count": null,
   "id": "bd1a70c8",
   "metadata": {},
   "outputs": [],
   "source": [
    "import json\n",
    "import requests\n",
    "import pandas as pd\n",
    "\n",
    "r = requests.get('https://api.census.gov/data/2015/acs/acs5?get=B01001_001E&for=county')\n",
    "censusdata = r.json()\n",
    "df = pd.DataFrame(censusdata[1:], columns=censusdata[0])\n",
    "df.head()"
   ]
  },
  {
   "cell_type": "markdown",
   "id": "f7e05635",
   "metadata": {},
   "source": [
    "<div class=\"alert alert-block alert-info\">\n",
    "<strong>Exercise:</strong> Retrieve population data at the census tract level for LA County, and put it in a pandas dataframe. (You can use the 5-year ACS if you like.)\n",
    "</div>"
   ]
  },
  {
   "cell_type": "markdown",
   "id": "c28d9352",
   "metadata": {},
   "source": [
    "Some examples are given [here](https://api.census.gov/data/2015/acs/acs5/examples.html). \n",
    "\n",
    "Note that you don't need the API key for a small number of queries, so you can delete `&key=YOUR_KEY_GOES_HERE` from the examples. \n",
    "\n",
    "The FIPS code for California is `06` and for Los Angeles County `037`."
   ]
  },
  {
   "cell_type": "code",
   "execution_count": null,
   "id": "2ab4a446",
   "metadata": {},
   "outputs": [],
   "source": [
    "# This is the example from the link below\n",
    "# https://api.census.gov/data/2015/acs/acs5?get=NAME,B01001_001E&for=tract:020500&in=state:01%20county:001&key=YOUR_KEY_GOES_HERE\n",
    "# here, we adapt it to get all tracts (*) in state 06 and county 037\n",
    "\n",
    "r = requests.get('https://api.census.gov/data/2015/acs/acs5?get=NAME,B01001_001E&for=tract:*&in=state:06%20county:037')\n",
    "censusdata = r.json()\n",
    "df = pd.DataFrame(censusdata[1:], columns=censusdata[0])\n",
    "df.head()"
   ]
  },
  {
   "cell_type": "markdown",
   "id": "52eb7f94",
   "metadata": {},
   "source": [
    "<div class=\"alert alert-block alert-info\">\n",
    "<strong>Exercise:</strong> Retrieve the census data for race/ethnicity for tracts in Los Angeles county, and put it in a pandas dataframe. \n",
    "</div>"
   ]
  },
  {
   "cell_type": "markdown",
   "id": "f80478ac",
   "metadata": {},
   "source": [
    "Hints:\n",
    "* The list of variables is [here](https://api.census.gov/data/2015/acs/acs5/variables.html).\n",
    "* The data is crosstabulated by race and age and gender. If you just want race/ethnicity, then look at the `Estimate!!Total:` variables. For example, `B01001H_001E` gives the total number of non-Hispanic white people, without further disaggregating by gender and age. \n",
    "* Start with the simplest measure of race. For example, you could calculate the proportion of Black people or non-Hispanic white people in each census tract, by dividing the relevant variable by the total population (which you already retrieved above).\n",
    "* You can request multiple variables at once - just separate them with commas. For example, `get=NAME,B01001_001E,B01001H_001E`. \n",
    "* `NAME` means that you are requesting the description of the geography - this is optional.\n"
   ]
  },
  {
   "cell_type": "code",
   "execution_count": null,
   "id": "a5fa97cb",
   "metadata": {},
   "outputs": [],
   "source": [
    "# let's calculate the % of residents who are non-Hispanic White\n",
    "# looking at the list of variables, we need B01001_001E (total) and B01001H_001E (non-Hispanic white)\n",
    "\n",
    "r = requests.get('https://api.census.gov/data/2015/acs/acs5?get=NAME,B01001_001E,B01001H_001E&for=tract:*&in=state:06%20county:037')\n",
    "censusdata = r.json()\n",
    "df = pd.DataFrame(censusdata[1:], columns=censusdata[0])\n",
    "\n",
    "# as we saw in class, the data are strings\n",
    "df.info()\n"
   ]
  },
  {
   "cell_type": "code",
   "execution_count": null,
   "id": "7c2ee835",
   "metadata": {},
   "outputs": [],
   "source": [
    "# so to calculate the percentage, we first convert to a float.\n",
    "# integer will not work here as it cannot hold NaN (missing data)\n",
    "\n",
    "df['pc_nonHispanicWhite'] = df.B01001H_001E.astype(float) / df.B01001_001E.astype(float) * 100 \n",
    "df.head()"
   ]
  },
  {
   "cell_type": "markdown",
   "id": "dd44cdb0",
   "metadata": {},
   "source": [
    "<div class=\"alert alert-block alert-info\">\n",
    "    <strong>Exercise:</strong> Now do the same using <strong>cenpy</strong>.\n",
    "</div>"
   ]
  },
  {
   "cell_type": "markdown",
   "id": "9b9c37b6",
   "metadata": {},
   "source": [
    "Here's the relevant example from the lecture. Note if you want multiple variables, you can pass them as a list. For example: `variables=['B25035_001E','B01001H_001E']`.\n"
   ]
  },
  {
   "cell_type": "code",
   "execution_count": null,
   "id": "d733a7a1",
   "metadata": {},
   "outputs": [],
   "source": [
    "# example from lecture\n",
    "import cenpy\n",
    "from cenpy import products\n",
    "\n",
    "# create a connection to the American Community Survey\n",
    "acs = cenpy.products.ACS()\n",
    "riverside = products.ACS(2017).from_county('Riverside, CA', level='tract',\n",
    "                                        variables='B25035_001E')\n",
    "riverside.head()"
   ]
  },
  {
   "cell_type": "code",
   "execution_count": null,
   "id": "6b99d49b",
   "metadata": {},
   "outputs": [],
   "source": [
    "# adapting the example to answer the question\n",
    "import cenpy\n",
    "from cenpy import products\n",
    "\n",
    "# create a connection to the American Community Survey\n",
    "# make it 2015 to match our census API example above\n",
    "acs = cenpy.products.ACS()\n",
    "la = products.ACS(2015).from_county('Los Angeles, CA', level='tract',\n",
    "                                     variables=['B01001H_001E','B01001_001E'])\n",
    "la['pc_nonHispanicWhite'] = la.B01001H_001E.astype(float) / la.B01001_001E.astype(float) * 100 \n",
    "\n",
    "\n",
    "la.head()"
   ]
  },
  {
   "cell_type": "markdown",
   "id": "fc824310",
   "metadata": {},
   "source": [
    "<div class=\"alert alert-block alert-info\">\n",
    "<strong>Exercise:</strong> Can you write a function that retrieves population by race for all census tracts in a specified county? (Or a simplified measure of race, such as the proportion of Black people.) \n",
    "</div>"
   ]
  },
  {
   "cell_type": "markdown",
   "id": "375585a8",
   "metadata": {},
   "source": [
    "Hint: use the code you wrote, but replace the county FIPS code `037` with a variable. Your function can take a single argument, e.g. `countyFIPS`."
   ]
  },
  {
   "cell_type": "code",
   "execution_count": null,
   "id": "dd45dee4",
   "metadata": {},
   "outputs": [],
   "source": [
    "# using the census API (not cenpy)\n",
    "# we could do a cenpy version and pass the county name instead of the FIPS code\n",
    "\n",
    "def get_nhWhite(countyFIPS):\n",
    "    # same as above, except 037 is replaced by our countyFIPS variable\n",
    "    r = requests.get('https://api.census.gov/data/2015/acs/acs5?get=NAME,B01001_001E,B01001H_001E&for=tract:*&in=state:06%20county:{}'.format(countyFIPS))\n",
    "    censusdata = r.json()\n",
    "    df = pd.DataFrame(censusdata[1:], columns=censusdata[0])\n",
    "    df['pc_nonHispanicWhite'] = df.B01001H_001E.astype(float) / df.B01001_001E.astype(float) * 100 \n",
    "\n",
    "    return df\n",
    "\n",
    "# for Marin County\n",
    "get_nhWhite('041')"
   ]
  },
  {
   "cell_type": "markdown",
   "id": "9bcf1b0e",
   "metadata": {},
   "source": [
    "<div class=\"alert alert-block alert-info\">\n",
    "<strong>Exercise:</strong> Map your results!\n",
    "</div>"
   ]
  },
  {
   "cell_type": "code",
   "execution_count": null,
   "id": "38778d45",
   "metadata": {},
   "outputs": [],
   "source": [
    "import matplotlib.pyplot as plt\n",
    "\n",
    "fig, ax = plt.subplots()\n",
    "la.plot('pc_nonHispanicWhite', ax = ax, legend=True)\n",
    "\n",
    "# remove the tick labels\n",
    "ax.set_xticks([])\n",
    "ax.set_yticks([])\n",
    "\n",
    "# set the limits to remove Catalina\n",
    "# I eyeballed this from the version before removing the tick labels\n",
    "ax.set_ylim([3.97*1e6, 4.15*1e6])\n",
    "\n",
    "ax.set_title('Percent non-Hispanic white residents')\n"
   ]
  },
  {
   "cell_type": "markdown",
   "id": "95a6407c",
   "metadata": {},
   "source": [
    "### Using Socrata"
   ]
  },
  {
   "cell_type": "markdown",
   "id": "13f01449",
   "metadata": {},
   "source": [
    "Here's the example that we saw in the lecture."
   ]
  },
  {
   "cell_type": "code",
   "execution_count": null,
   "id": "85c14749",
   "metadata": {},
   "outputs": [],
   "source": [
    "import geopandas as gpd\n",
    "url = 'https://data.lacity.org/resource/mymu-zi3s.geojson'\n",
    "gdf = gpd.read_file(url)\n",
    "gdf.plot()"
   ]
  },
  {
   "cell_type": "markdown",
   "id": "e7dcb1a3",
   "metadata": {},
   "source": [
    "<div class=\"alert alert-block alert-info\">\n",
    "<strong>Exercise:</strong> Choose another dataset on Socrata, download it using the API, and map the results. \n",
    "</div>"
   ]
  },
  {
   "cell_type": "markdown",
   "id": "bffeece0",
   "metadata": {},
   "source": [
    "The City of Los Angeles datasets are [here](https://data.lacity.org). Feel free to choose another city or county if you prefer.\n",
    "\n",
    "Some possible datasets of planning-related interest:\n",
    "* [DACA/DAPA workshops](https://data.lacity.org/Community-Economic-Development/Map2-DACA-DAPA-Workshops/icwt-9z3e) (seems a bit dated)\n",
    "* [Solar PV permits](https://data.lacity.org/A-Prosperous-City/Solar-PV-Permits-in-LA/bdt7-w2xr)\n",
    "* [Parks](https://data.lacity.org/Community-Economic-Development/Department-of-Recreation-and-Parks-Facility-and-Pa/ax8j-dhzm)"
   ]
  },
  {
   "cell_type": "code",
   "execution_count": null,
   "id": "d141d6a8",
   "metadata": {},
   "outputs": [],
   "source": [
    "# your code here\n",
    "\n",
    "# let's do solar\n",
    "url = 'https://data.lacity.org/resource/bdt7-w2xr.geojson'\n",
    "gdf = gpd.read_file(url)\n",
    "gdf.plot()"
   ]
  },
  {
   "cell_type": "code",
   "execution_count": null,
   "id": "753955ec",
   "metadata": {},
   "outputs": [],
   "source": [
    "# clean it up a bit\n",
    "import matplotlib.pyplot as plt\n",
    "import contextily as ctx\n",
    "\n",
    "# easier if we pre-create an axis object\n",
    "fig, ax = plt.subplots(figsize=(10,10))\n",
    "\n",
    "# project to 3857 to match the basemap\n",
    "# use the markersize keyword to make the points smaller\n",
    "gdf.to_crs('EPSG:3857').plot(ax=ax, markersize=2)\n",
    "\n",
    "# add a basemap\n",
    "# for more options, see https://contextily.readthedocs.io/en/latest/providers_deepdive.html\n",
    "# I chose xyz.OpenStreetMap.Mapnik\n",
    "ctx.add_basemap(ax=ax, zoom=12, source=ctx.providers.OpenStreetMap.Mapnik)\n",
    "\n",
    "# drop the tick labels\n",
    "ax.set_xticks([])\n",
    "ax.set_yticks([])\n",
    "\n",
    "# add a title\n",
    "ax.set_title('Solar PV permits, City of Los Angeles')"
   ]
  },
  {
   "cell_type": "code",
   "execution_count": null,
   "id": "a776c1e0",
   "metadata": {},
   "outputs": [],
   "source": []
  },
  {
   "cell_type": "markdown",
   "id": "a2818a26",
   "metadata": {},
   "source": [
    "<div class=\"alert alert-block alert-info\">\n",
    "<h3>What you should have learned</h3>\n",
    "<ul>\n",
    "  <li>Gain confidence in experimenting with code - exploring different objects, writing functions, and so on</li>\n",
    "  <li>Learn how to read API documentation and adapt the examples to create your own queries.</li>\n",
    "  <li>Gain confidence in mapping the results. We'll practice this much more throughout the quarter.</li>\n",
    "</ul>\n",
    "</div>"
   ]
  },
  {
   "cell_type": "code",
   "execution_count": null,
   "id": "0315d5ae",
   "metadata": {},
   "outputs": [],
   "source": []
  }
 ],
 "metadata": {
  "kernelspec": {
   "display_name": "Python 3 (ipykernel)",
   "language": "python",
   "name": "python3"
  },
  "language_info": {
   "codemirror_mode": {
    "name": "ipython",
    "version": 3
   },
   "file_extension": ".py",
   "mimetype": "text/x-python",
   "name": "python",
   "nbconvert_exporter": "python",
   "pygments_lexer": "ipython3",
   "version": "3.8.12"
  }
 },
 "nbformat": 4,
 "nbformat_minor": 5
}
