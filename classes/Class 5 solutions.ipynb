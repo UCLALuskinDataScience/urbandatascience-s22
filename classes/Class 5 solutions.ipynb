{
 "cells": [
  {
   "cell_type": "markdown",
   "id": "53fce03f",
   "metadata": {},
   "source": [
    "## Week 5 Class activities\n",
    "This notebook is a starting point for the exercises and activities that we'll do in class.\n",
    "\n",
    "Before you attempt any of these activities, make sure to watch the video lectures for this week."
   ]
  },
  {
   "cell_type": "markdown",
   "id": "a0c45307",
   "metadata": {},
   "source": [
    "### Using git\n",
    "Let's start with some practice using git. \n",
    "\n",
    "I set up a class repository. You should all have full access.\n",
    "\n",
    "Enter GitHub Desktop, go to File > Clone Repository. Then clone `UCLALuskinDataScience/git-practice` to somewhere on your computer.\n",
    "\n",
    "Try adding a new file first. Create a text file on your computer and save it in the `git-practice` folder. Go to GitHub Desktop. You should see your new file.\n",
    "* Add a commit message\n",
    "* Click on \"commit to main\"\n",
    "* Fetch the origin (in case anyone has updated the repository in the meantime)\n",
    "* Click on \"push origin\"\n",
    "\n",
    "You should now see your file in the [cloud repository](https://github.com/UCLALuskinDataScience/git-practice).\n",
    "\n",
    "Fetch the origin again. Now try editing your neighbor's file, or the code that's in there already. Commit, and push it back to the cloud. \n",
    "\n",
    "What happens if you both try and edit it at once?"
   ]
  },
  {
   "cell_type": "markdown",
   "id": "d526e5f3",
   "metadata": {},
   "source": [
    "### ADUs and neighborhood-level predictors\n",
    "Let's continue with the example of ADUs from the video lecture.\n",
    "\n",
    "We'll add a broader set of predictors at the neighborhood (census tract) level, and see if that improves our predictive performance.\n",
    "\n",
    "First, let's load in the DataFrame that we saved during the lecture. If you ran the code for the lecture (Part 1 - Data preparation), you should be able to load it in as follows."
   ]
  },
  {
   "cell_type": "code",
   "execution_count": 1,
   "id": "f820e20c",
   "metadata": {},
   "outputs": [
    {
     "data": {
      "text/html": [
       "<div>\n",
       "<style scoped>\n",
       "    .dataframe tbody tr th:only-of-type {\n",
       "        vertical-align: middle;\n",
       "    }\n",
       "\n",
       "    .dataframe tbody tr th {\n",
       "        vertical-align: top;\n",
       "    }\n",
       "\n",
       "    .dataframe thead th {\n",
       "        text-align: right;\n",
       "    }\n",
       "</style>\n",
       "<table border=\"1\" class=\"dataframe\">\n",
       "  <thead>\n",
       "    <tr style=\"text-align: right;\">\n",
       "      <th></th>\n",
       "      <th>APN</th>\n",
       "      <th>UseType</th>\n",
       "      <th>UseDescription</th>\n",
       "      <th>YearBuilt1</th>\n",
       "      <th>Units1</th>\n",
       "      <th>Bedrooms1</th>\n",
       "      <th>Bathrooms1</th>\n",
       "      <th>SQFTmain1</th>\n",
       "      <th>Roll_LandValue</th>\n",
       "      <th>Roll_ImpValue</th>\n",
       "      <th>Roll_LandBaseYear</th>\n",
       "      <th>Roll_ImpBaseYear</th>\n",
       "      <th>CENTER_LAT</th>\n",
       "      <th>CENTER_LON</th>\n",
       "      <th>Assessor Book</th>\n",
       "      <th>Assessor Page</th>\n",
       "      <th>Assessor Parcel</th>\n",
       "      <th># of Accessory Dwelling Units</th>\n",
       "      <th>hasADU</th>\n",
       "      <th>geometry</th>\n",
       "    </tr>\n",
       "  </thead>\n",
       "  <tbody>\n",
       "    <tr>\n",
       "      <th>0</th>\n",
       "      <td>2004-001-003</td>\n",
       "      <td>Residential</td>\n",
       "      <td>Single</td>\n",
       "      <td>1973.0</td>\n",
       "      <td>1.0</td>\n",
       "      <td>4.0</td>\n",
       "      <td>3.0</td>\n",
       "      <td>2090.0</td>\n",
       "      <td>543000.0</td>\n",
       "      <td>231000.0</td>\n",
       "      <td>2006</td>\n",
       "      <td>2006</td>\n",
       "      <td>34.220220</td>\n",
       "      <td>-118.620669</td>\n",
       "      <td>2340.0</td>\n",
       "      <td>20.0</td>\n",
       "      <td>013</td>\n",
       "      <td>1.0</td>\n",
       "      <td>True</td>\n",
       "      <td>POINT (-118.62067 34.22022)</td>\n",
       "    </tr>\n",
       "    <tr>\n",
       "      <th>1</th>\n",
       "      <td>2004-001-004</td>\n",
       "      <td>Residential</td>\n",
       "      <td>Single</td>\n",
       "      <td>1973.0</td>\n",
       "      <td>1.0</td>\n",
       "      <td>5.0</td>\n",
       "      <td>3.0</td>\n",
       "      <td>2479.0</td>\n",
       "      <td>345587.0</td>\n",
       "      <td>238650.0</td>\n",
       "      <td>2010</td>\n",
       "      <td>2010</td>\n",
       "      <td>34.220039</td>\n",
       "      <td>-118.620668</td>\n",
       "      <td>5535.0</td>\n",
       "      <td>34.0</td>\n",
       "      <td>001</td>\n",
       "      <td>1.0</td>\n",
       "      <td>True</td>\n",
       "      <td>POINT (-118.62067 34.22004)</td>\n",
       "    </tr>\n",
       "    <tr>\n",
       "      <th>2</th>\n",
       "      <td>2004-001-005</td>\n",
       "      <td>Residential</td>\n",
       "      <td>Single</td>\n",
       "      <td>1973.0</td>\n",
       "      <td>1.0</td>\n",
       "      <td>4.0</td>\n",
       "      <td>2.0</td>\n",
       "      <td>2057.0</td>\n",
       "      <td>490917.0</td>\n",
       "      <td>185207.0</td>\n",
       "      <td>2018</td>\n",
       "      <td>2018</td>\n",
       "      <td>34.219858</td>\n",
       "      <td>-118.620676</td>\n",
       "      <td>2639.0</td>\n",
       "      <td>23.0</td>\n",
       "      <td>005</td>\n",
       "      <td>1.0</td>\n",
       "      <td>True</td>\n",
       "      <td>POINT (-118.62068 34.21986)</td>\n",
       "    </tr>\n",
       "    <tr>\n",
       "      <th>3</th>\n",
       "      <td>2004-001-008</td>\n",
       "      <td>Residential</td>\n",
       "      <td>Single</td>\n",
       "      <td>1978.0</td>\n",
       "      <td>1.0</td>\n",
       "      <td>4.0</td>\n",
       "      <td>3.0</td>\n",
       "      <td>2423.0</td>\n",
       "      <td>119775.0</td>\n",
       "      <td>207020.0</td>\n",
       "      <td>1980</td>\n",
       "      <td>1980</td>\n",
       "      <td>34.220334</td>\n",
       "      <td>-118.622706</td>\n",
       "      <td>2276.0</td>\n",
       "      <td>18.0</td>\n",
       "      <td>028</td>\n",
       "      <td>1.0</td>\n",
       "      <td>True</td>\n",
       "      <td>POINT (-118.62271 34.22033)</td>\n",
       "    </tr>\n",
       "    <tr>\n",
       "      <th>4</th>\n",
       "      <td>2004-001-009</td>\n",
       "      <td>Residential</td>\n",
       "      <td>Single</td>\n",
       "      <td>1978.0</td>\n",
       "      <td>1.0</td>\n",
       "      <td>4.0</td>\n",
       "      <td>3.0</td>\n",
       "      <td>2226.0</td>\n",
       "      <td>130511.0</td>\n",
       "      <td>195871.0</td>\n",
       "      <td>1984</td>\n",
       "      <td>1984</td>\n",
       "      <td>34.220323</td>\n",
       "      <td>-118.623050</td>\n",
       "      <td>4249.0</td>\n",
       "      <td>6.0</td>\n",
       "      <td>016</td>\n",
       "      <td>1.0</td>\n",
       "      <td>True</td>\n",
       "      <td>POINT (-118.62305 34.22032)</td>\n",
       "    </tr>\n",
       "  </tbody>\n",
       "</table>\n",
       "</div>"
      ],
      "text/plain": [
       "            APN      UseType UseDescription  YearBuilt1  Units1  Bedrooms1  \\\n",
       "0  2004-001-003  Residential         Single      1973.0     1.0        4.0   \n",
       "1  2004-001-004  Residential         Single      1973.0     1.0        5.0   \n",
       "2  2004-001-005  Residential         Single      1973.0     1.0        4.0   \n",
       "3  2004-001-008  Residential         Single      1978.0     1.0        4.0   \n",
       "4  2004-001-009  Residential         Single      1978.0     1.0        4.0   \n",
       "\n",
       "   Bathrooms1  SQFTmain1  Roll_LandValue  Roll_ImpValue  Roll_LandBaseYear  \\\n",
       "0         3.0     2090.0        543000.0       231000.0               2006   \n",
       "1         3.0     2479.0        345587.0       238650.0               2010   \n",
       "2         2.0     2057.0        490917.0       185207.0               2018   \n",
       "3         3.0     2423.0        119775.0       207020.0               1980   \n",
       "4         3.0     2226.0        130511.0       195871.0               1984   \n",
       "\n",
       "   Roll_ImpBaseYear  CENTER_LAT  CENTER_LON  Assessor Book  Assessor Page  \\\n",
       "0              2006   34.220220 -118.620669         2340.0           20.0   \n",
       "1              2010   34.220039 -118.620668         5535.0           34.0   \n",
       "2              2018   34.219858 -118.620676         2639.0           23.0   \n",
       "3              1980   34.220334 -118.622706         2276.0           18.0   \n",
       "4              1984   34.220323 -118.623050         4249.0            6.0   \n",
       "\n",
       "  Assessor Parcel  # of Accessory Dwelling Units  hasADU  \\\n",
       "0             013                            1.0    True   \n",
       "1             001                            1.0    True   \n",
       "2             005                            1.0    True   \n",
       "3             028                            1.0    True   \n",
       "4             016                            1.0    True   \n",
       "\n",
       "                      geometry  \n",
       "0  POINT (-118.62067 34.22022)  \n",
       "1  POINT (-118.62067 34.22004)  \n",
       "2  POINT (-118.62068 34.21986)  \n",
       "3  POINT (-118.62271 34.22033)  \n",
       "4  POINT (-118.62305 34.22032)  "
      ]
     },
     "execution_count": 1,
     "metadata": {},
     "output_type": "execute_result"
    }
   ],
   "source": [
    "import pandas as pd\n",
    "import geopandas as gpd\n",
    "\n",
    "\n",
    "parcels = pd.read_pickle('../Lectures/joined_permits.pandas')\n",
    "\n",
    "# convert to a geodataframe. Same code as from video lecture\n",
    "parcels = gpd.GeoDataFrame(parcels, \n",
    "                    geometry = gpd.points_from_xy(\n",
    "                        parcels.CENTER_LON, \n",
    "                        parcels.CENTER_LAT, crs='EPSG:4326'))\n",
    "\n",
    "# check it looks OK\n",
    "parcels.head()"
   ]
  },
  {
   "cell_type": "markdown",
   "id": "c017a779",
   "metadata": {},
   "source": [
    "Now let's load in our tract-level data from EnviroScreen. Again, this is the same code as we've used before."
   ]
  },
  {
   "cell_type": "code",
   "execution_count": 2,
   "id": "2a292986",
   "metadata": {},
   "outputs": [],
   "source": [
    "enviroscreen = gpd.read_file('../Lectures/data/CalEnviroScreen/CES4 Final Shapefile.shp')"
   ]
  },
  {
   "cell_type": "markdown",
   "id": "cdb38069",
   "metadata": {},
   "source": [
    "Now we can add the tract-level attributes to each parcel. (Important: we want to keep the dataset at the parcel level, rather than grouping by tract and getting counts as we did before.)"
   ]
  },
  {
   "cell_type": "markdown",
   "id": "128c3cb0",
   "metadata": {},
   "source": [
    "<div class=\"alert alert-block alert-info\">\n",
    "    <strong>Exercise:</strong> Do a spatial join to add the EnviroScreen attributes for the relevant census tract to each parcel.\n",
    "</div>"
   ]
  },
  {
   "cell_type": "code",
   "execution_count": 3,
   "id": "0de9e8a3",
   "metadata": {},
   "outputs": [],
   "source": [
    "# your code here\n",
    "\n",
    "gdf = gpd.sjoin(parcels, enviroscreen.to_crs('EPSG:4326'), how='left', predicate='intersects')"
   ]
  },
  {
   "cell_type": "markdown",
   "id": "fe419b47",
   "metadata": {},
   "source": [
    "<div class=\"alert alert-block alert-info\">\n",
    "<strong>Exercise:</strong> Estimate a random forests model that takes advantage of the new columns you just joined. Create a new variable, <strong>y_pred</strong> with your predicted values."
   ]
  },
  {
   "cell_type": "markdown",
   "id": "d06466cf",
   "metadata": {},
   "source": [
    "*Hints:*\n",
    "- You'll first need to choose which variables you want. Focus on the numeric variables for now - don't worry about creating dummies from the string variables\n",
    "- Then split your dataset into training and testing portions\n",
    "- Then estimate your model\n",
    "- Then make your predictions on the testing dataset"
   ]
  },
  {
   "cell_type": "code",
   "execution_count": 4,
   "id": "56cbab8d",
   "metadata": {},
   "outputs": [],
   "source": [
    "# your code here\n",
    "from sklearn.model_selection import train_test_split\n",
    "from sklearn.ensemble import RandomForestClassifier\n",
    "from sklearn.metrics import classification_report, confusion_matrix, accuracy_score, ConfusionMatrixDisplay\n",
    "\n",
    "# choose which variables to use\n",
    "# this is a shortcut to get all\n",
    "# you could have specified a list manually\n",
    "xvars = enviroscreen.dtypes[(enviroscreen.dtypes=='float64') | (enviroscreen.dtypes=='int64')].index.tolist()\n",
    "\n",
    "# drop some that are identifiers, and add the ones from the parcels dataset\n",
    "xvars.remove('Tract')\n",
    "xvars.remove('ZIP')\n",
    "xvars += ['YearBuilt1', 'Units1', 'Bedrooms1',\n",
    "       'Bathrooms1', 'SQFTmain1', 'Roll_LandValue', 'Roll_ImpValue',\n",
    "       'Roll_LandBaseYear', 'Roll_ImpBaseYear', 'CENTER_LAT', 'CENTER_LON']\n",
    "yvar = 'hasADU'\n",
    "\n",
    "# create a dataframe with no NaNs\n",
    "df_to_fit = gdf[xvars+[yvar]].dropna()\n",
    "\n",
    "\n",
    "# train test split\n",
    "X_train, X_test, y_train, y_test = train_test_split(\n",
    "    df_to_fit[xvars], df_to_fit[yvar], test_size = 0.25, random_state = 1)\n",
    "\n",
    "# initialize the random forest classifer object\n",
    "rf = RandomForestClassifier(n_estimators = 50, random_state = 1)\n",
    "\n",
    "# now fit the model\n",
    "rf.fit(X_train, y_train)\n",
    "\n",
    "# make predictions\n",
    "y_pred = rf.predict(X_test)\n",
    "\n"
   ]
  },
  {
   "cell_type": "markdown",
   "id": "204ff5cc",
   "metadata": {},
   "source": [
    "<div class=\"alert alert-block alert-info\">\n",
    "<strong>Exercise:</strong> Plot a confusion matrix, plus any other measures of fit that you think would be useful."
   ]
  },
  {
   "cell_type": "code",
   "execution_count": 5,
   "id": "a9e17e30",
   "metadata": {},
   "outputs": [
    {
     "data": {
      "text/plain": [
       "<sklearn.metrics._plot.confusion_matrix.ConfusionMatrixDisplay at 0x7fafa1bfe0a0>"
      ]
     },
     "execution_count": 5,
     "metadata": {},
     "output_type": "execute_result"
    },
    {
     "data": {
      "image/png": "[encoded data removed]",
      "text/plain": [
       "<Figure size 432x288 with 2 Axes>"
      ]
     },
     "metadata": {
      "needs_background": "light"
     },
     "output_type": "display_data"
    }
   ],
   "source": [
    "# your code here\n",
    "ConfusionMatrixDisplay.from_predictions(y_test, y_pred)"
   ]
  },
  {
   "cell_type": "markdown",
   "id": "c363214c",
   "metadata": {},
   "source": [
    "<div class=\"alert alert-block alert-info\">\n",
    "<strong>Exercise:</strong> Which variables are most important to your predictions?"
   ]
  },
  {
   "cell_type": "code",
   "execution_count": null,
   "id": "41b92a0a",
   "metadata": {},
   "outputs": [],
   "source": [
    "# code from https://scikit-learn.org/stable/auto_examples/ensemble/plot_forest_importances.html\n",
    "import matplotlib.pyplot as plt\n",
    "import seaborn as sns\n",
    "\n",
    "import numpy as np\n",
    "\n",
    "importances = rf.feature_importances_\n",
    "\n",
    "# convert to a series, and give the index labels from our X_train dataframe\n",
    "forest_importances = pd.Series(importances, index=X_train.columns)\n",
    "\n",
    "# get the standard deviations to be able to plot the error bars\n",
    "std = np.std([tree.feature_importances_ for tree in rf.estimators_], axis=0)\n",
    "\n",
    "# sort the importances in descending order\n",
    "forest_importances.sort_values(inplace=True, ascending=False)\n",
    "\n",
    "# plot\n",
    "fig, ax = plt.subplots(figsize=(4,15))\n",
    "sns.barplot(x=forest_importances.values, y=forest_importances.index, ax=ax)\n",
    "ax.set_title(\"Feature importances using MDI\")\n",
    "ax.set_ylabel(\"Mean decrease in impurity\")"
   ]
  },
  {
   "cell_type": "markdown",
   "id": "aca0086c",
   "metadata": {},
   "source": [
    "<div class=\"alert alert-block alert-info\">\n",
    "    <strong>Exercise:</strong> The model that I estimated was pretty counterintuitive in terms of the feature importances. (Maybe you got different results.) Think about how to explain your findings, and what you might do to investigate further?\n",
    "</div>"
   ]
  },
  {
   "cell_type": "markdown",
   "id": "818ebc06",
   "metadata": {},
   "source": [
    "Add some of your thoughts here."
   ]
  },
  {
   "cell_type": "markdown",
   "id": "041fefc9",
   "metadata": {},
   "source": [
    "<div class=\"alert alert-block alert-info\">\n",
    "<strong>Exercise:</strong> Use a neural net to estimate the probability of adding an ADU. How do your predictions compare to the random forests?\n",
    "</div>"
   ]
  },
  {
   "cell_type": "markdown",
   "id": "2fc1edb8",
   "metadata": {},
   "source": [
    "*Hint*: Remember to standardize your variables first. Since you don't have any binary (dummy) variables, you can standardize all of your x variables."
   ]
  },
  {
   "cell_type": "code",
   "execution_count": null,
   "id": "60729fc8",
   "metadata": {},
   "outputs": [],
   "source": [
    "from sklearn import preprocessing\n",
    "from sklearn.neural_network import MLPClassifier\n",
    "\n",
    "# your code here\n",
    "\n",
    "# scale the columns\n",
    "scaler = preprocessing.StandardScaler().fit(df_to_fit[xvars])\n",
    "df_scaled = pd.DataFrame(scaler.transform(df_to_fit[xvars]), \n",
    "                         columns=xvars, index=df_to_fit.index)\n",
    "\n",
    "# create a DataFrame with these scaled columns joined to the columns that we didn't scale\n",
    "df_scaled = df_scaled.join(df_to_fit[yvar])\n",
    "\n",
    "# standardize\n",
    "X_train, X_test, y_train, y_test = train_test_split(\n",
    "      df_scaled[xvars], df_scaled[yvar], test_size = 0.25, random_state = 1)\n",
    "\n",
    "# estimate the neural net\n",
    "mlp = MLPClassifier(hidden_layer_sizes=(10, 10, 10), max_iter=1000)\n",
    "mlp.fit(X_train, y_train)\n",
    "y_pred = mlp.predict(X_test)\n",
    "\n",
    "# predictions\n",
    "ConfusionMatrixDisplay.from_predictions(y_test, y_pred)"
   ]
  },
  {
   "cell_type": "markdown",
   "id": "3c292bac",
   "metadata": {},
   "source": [
    "<div class=\"alert alert-block alert-info\">\n",
    "<strong>Exercise:</strong> Experiment with some of the hyperparameters (e.g. layer sizes). How do these affect your results?\n",
    "</div>"
   ]
  },
  {
   "cell_type": "code",
   "execution_count": null,
   "id": "0d3ca354",
   "metadata": {},
   "outputs": [],
   "source": [
    "# your code here"
   ]
  },
  {
   "cell_type": "markdown",
   "id": "09baf9bb",
   "metadata": {},
   "source": [
    "<div class=\"alert alert-block alert-info\">\n",
    "<strong>Exercise:</strong> Map your predictions. You could create a census-tract level variable with the predicted probability of a parcel having an ADU. You could also map the predicted vs actual ADU numbers.</div>"
   ]
  },
  {
   "cell_type": "markdown",
   "id": "a2818a26",
   "metadata": {},
   "source": [
    "<div class=\"alert alert-block alert-info\">\n",
    "<h3>What you should have learned</h3>\n",
    "<ul>\n",
    "  <li>Gain more practice with spatial joins</li>\n",
    "  <li>Understand how to estimate a random forests model.</li>\n",
    "  <li>Understand how to interpret the results of machine learning classification models.</li>\n",
    "</ul>\n",
    "</div>"
   ]
  },
  {
   "cell_type": "code",
   "execution_count": null,
   "id": "91830f5f",
   "metadata": {},
   "outputs": [],
   "source": []
  }
 ],
 "metadata": {
  "kernelspec": {
   "display_name": "Python 3 (ipykernel)",
   "language": "python",
   "name": "python3"
  },
  "language_info": {
   "codemirror_mode": {
    "name": "ipython",
    "version": 3
   },
   "file_extension": ".py",
   "mimetype": "text/x-python",
   "name": "python",
   "nbconvert_exporter": "python",
   "pygments_lexer": "ipython3",
   "version": "3.8.12"
  }
 },
 "nbformat": 4,
 "nbformat_minor": 5
}
